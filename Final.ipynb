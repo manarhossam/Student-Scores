{
 "cells": [
  {
   "cell_type": "markdown",
   "id": "02e6c93f",
   "metadata": {},
   "source": [
    "# Students Exam Scores"
   ]
  },
  {
   "cell_type": "markdown",
   "id": "6757649e",
   "metadata": {},
   "source": [
    "This dataset includes scores from three test scores of students at a (fictional) public school and a variety of personal and socio-economic factors that may have interaction effects upon them.\n",
    "Aim: Predicting Student Test Scores"
   ]
  },
  {
   "cell_type": "markdown",
   "id": "b42af23d",
   "metadata": {},
   "source": [
    "### Data Dictionary (column description)"
   ]
  },
  {
   "cell_type": "markdown",
   "id": "272bea65",
   "metadata": {},
   "source": [
    "#### Gender: Gender of the student (male/female) \n",
    "\n",
    "#### EthnicGroup: Ethnic group of the student (group A to E)\n",
    "\n",
    "#### ParentEduc: Parent(s) education background (from some_highschool to master's degree)\n",
    "#### LunchType: School lunch type (standard or free/reduced)\n",
    "#### TestPrep: Test preparation course followed (completed or none)\n",
    "#### ParentMaritalStatus: Parent(s) marital status (married/single/widowed/divorced)\n",
    "#### PracticeSport: How often the student parctice sport (never/sometimes/regularly))\n",
    "#### IsFirstChild: If the child is first child in the family or not (yes/no)\n",
    "#### NrSiblings: Number of siblings the student has (0 to 7)\n",
    "#### TransportMeans: Means of transport to school (schoolbus/private)\n",
    "#### WklyStudyHours: Weekly self-study hours(less that 5hrs; between 5 and 10hrs; more than 10hrs)\n",
    "#### MathScore: math test score(0-100)\n",
    "#### ReadingScore: reading test score(0-100)\n",
    "#### WritingScore: writing test score(0-100)"
   ]
  },
  {
   "cell_type": "raw",
   "id": "9a71dfee",
   "metadata": {},
   "source": [
    "# Analysis\n",
    "1-What is the distribution of students by gender and first group?\n",
    "2-What is the most educational degree that parents hold for students?\n",
    "3-Is there a difference in academic performance between male and female students?\n",
    "4-Does exercise affect students' performance in exams?\n",
    "5-Does the type of lunch affect students' performance in exams?\n",
    "6-Is there a difference in academic performance between the older and younger children in the family?\n",
    "7-Is there a relationship between math scores and reading and writing?\n",
    "8-Is there a change in student performance across class groups?\n",
    "9-Is there a difference in students' performance according to the means of transportation they use to go to school?\n",
    "10-Which gender records the most in mathscore , readingscores and writingscores ?\n",
    "11-Is there a relationship between the number of siblings and academic performance?\n",
    "12-Is there a relation between being the first Child and mathScore , readingScore and writingScore?\n",
    "13-What's the relation between practicing sports and mathScore,readingScore or writingScore?\n",
    "14-Is there a relation between being the only child and scores?\n",
    "15-What is the overall score for male and female students separately?\n",
    "16-What is the average general total for students who come from unmarried families?\n",
    "17-Is there a correlation between marks in mathscore , writingscore , readingscore and Overallscore?\n",
    "18-Which gender records the most in overallscore?\n",
    "19-What is the ratio of male and female students in the data?\n",
    "20-How many students pass in mathscore , writingscore and readingscore?\n",
    "21-How many students pass in all exams?\n",
    "22-How many parent_educ_counts are in ParentEduc?\n",
    "23-Max and Min in ParentEduc?"
   ]
  },
  {
   "cell_type": "code",
   "execution_count": 2,
   "id": "883bcb08",
   "metadata": {},
   "outputs": [],
   "source": [
    "import numpy as np\n",
    "import pandas as pd\n",
    "import matplotlib.pyplot as plt\n",
    "import seaborn as sns\n",
    "from sklearn.naive_bayes import GaussianNB\n",
    "from sklearn.metrics import classification_report\n",
    "from sklearn.model_selection import train_test_split\n",
    "from sklearn.linear_model import LinearRegression\n",
    "from sklearn.metrics import mean_squared_error\n",
    "from sklearn.preprocessing import LabelEncoder\n",
    "from sklearn import metrics"
   ]
  },
  {
   "cell_type": "code",
   "execution_count": 3,
   "id": "81b50d9a",
   "metadata": {},
   "outputs": [
    {
     "data": {
      "text/html": [
       "<div>\n",
       "<style scoped>\n",
       "    .dataframe tbody tr th:only-of-type {\n",
       "        vertical-align: middle;\n",
       "    }\n",
       "\n",
       "    .dataframe tbody tr th {\n",
       "        vertical-align: top;\n",
       "    }\n",
       "\n",
       "    .dataframe thead th {\n",
       "        text-align: right;\n",
       "    }\n",
       "</style>\n",
       "<table border=\"1\" class=\"dataframe\">\n",
       "  <thead>\n",
       "    <tr style=\"text-align: right;\">\n",
       "      <th></th>\n",
       "      <th></th>\n",
       "      <th>Gender</th>\n",
       "      <th>EthnicGroup</th>\n",
       "      <th>ParentEduc</th>\n",
       "      <th>LunchType</th>\n",
       "      <th>TestPrep</th>\n",
       "      <th>ParentMaritalStatus</th>\n",
       "      <th>PracticeSport</th>\n",
       "      <th>IsFirstChild</th>\n",
       "      <th>NrSiblings</th>\n",
       "      <th>TransportMeans</th>\n",
       "      <th>WklyStudyHours</th>\n",
       "      <th>MathScore</th>\n",
       "      <th>ReadingScore</th>\n",
       "      <th>WritingScore</th>\n",
       "    </tr>\n",
       "  </thead>\n",
       "  <tbody>\n",
       "    <tr>\n",
       "      <th>0</th>\n",
       "      <td>0</td>\n",
       "      <td>female</td>\n",
       "      <td>NaN</td>\n",
       "      <td>bachelor's degree</td>\n",
       "      <td>standard</td>\n",
       "      <td>none</td>\n",
       "      <td>married</td>\n",
       "      <td>regularly</td>\n",
       "      <td>yes</td>\n",
       "      <td>3.0</td>\n",
       "      <td>school_bus</td>\n",
       "      <td>&lt; 5</td>\n",
       "      <td>71</td>\n",
       "      <td>71</td>\n",
       "      <td>74</td>\n",
       "    </tr>\n",
       "    <tr>\n",
       "      <th>1</th>\n",
       "      <td>1</td>\n",
       "      <td>female</td>\n",
       "      <td>group C</td>\n",
       "      <td>some college</td>\n",
       "      <td>standard</td>\n",
       "      <td>NaN</td>\n",
       "      <td>married</td>\n",
       "      <td>sometimes</td>\n",
       "      <td>yes</td>\n",
       "      <td>0.0</td>\n",
       "      <td>NaN</td>\n",
       "      <td>10-May</td>\n",
       "      <td>69</td>\n",
       "      <td>90</td>\n",
       "      <td>88</td>\n",
       "    </tr>\n",
       "    <tr>\n",
       "      <th>2</th>\n",
       "      <td>2</td>\n",
       "      <td>female</td>\n",
       "      <td>group B</td>\n",
       "      <td>master's degree</td>\n",
       "      <td>standard</td>\n",
       "      <td>none</td>\n",
       "      <td>single</td>\n",
       "      <td>sometimes</td>\n",
       "      <td>yes</td>\n",
       "      <td>4.0</td>\n",
       "      <td>school_bus</td>\n",
       "      <td>&lt; 5</td>\n",
       "      <td>87</td>\n",
       "      <td>93</td>\n",
       "      <td>91</td>\n",
       "    </tr>\n",
       "    <tr>\n",
       "      <th>3</th>\n",
       "      <td>3</td>\n",
       "      <td>male</td>\n",
       "      <td>group A</td>\n",
       "      <td>associate's degree</td>\n",
       "      <td>free/reduced</td>\n",
       "      <td>none</td>\n",
       "      <td>married</td>\n",
       "      <td>never</td>\n",
       "      <td>no</td>\n",
       "      <td>1.0</td>\n",
       "      <td>NaN</td>\n",
       "      <td>10-May</td>\n",
       "      <td>45</td>\n",
       "      <td>56</td>\n",
       "      <td>42</td>\n",
       "    </tr>\n",
       "    <tr>\n",
       "      <th>4</th>\n",
       "      <td>4</td>\n",
       "      <td>male</td>\n",
       "      <td>group C</td>\n",
       "      <td>some college</td>\n",
       "      <td>standard</td>\n",
       "      <td>none</td>\n",
       "      <td>married</td>\n",
       "      <td>sometimes</td>\n",
       "      <td>yes</td>\n",
       "      <td>0.0</td>\n",
       "      <td>school_bus</td>\n",
       "      <td>10-May</td>\n",
       "      <td>76</td>\n",
       "      <td>78</td>\n",
       "      <td>75</td>\n",
       "    </tr>\n",
       "  </tbody>\n",
       "</table>\n",
       "</div>"
      ],
      "text/plain": [
       "      Gender EthnicGroup          ParentEduc     LunchType TestPrep  \\\n",
       "0  0  female         NaN   bachelor's degree      standard     none   \n",
       "1  1  female     group C        some college      standard      NaN   \n",
       "2  2  female     group B     master's degree      standard     none   \n",
       "3  3    male     group A  associate's degree  free/reduced     none   \n",
       "4  4    male     group C        some college      standard     none   \n",
       "\n",
       "  ParentMaritalStatus PracticeSport IsFirstChild  NrSiblings TransportMeans  \\\n",
       "0             married     regularly          yes         3.0     school_bus   \n",
       "1             married     sometimes          yes         0.0            NaN   \n",
       "2              single     sometimes          yes         4.0     school_bus   \n",
       "3             married         never           no         1.0            NaN   \n",
       "4             married     sometimes          yes         0.0     school_bus   \n",
       "\n",
       "  WklyStudyHours  MathScore  ReadingScore  WritingScore  \n",
       "0            < 5         71            71            74  \n",
       "1         10-May         69            90            88  \n",
       "2            < 5         87            93            91  \n",
       "3         10-May         45            56            42  \n",
       "4         10-May         76            78            75  "
      ]
     },
     "execution_count": 3,
     "metadata": {},
     "output_type": "execute_result"
    }
   ],
   "source": [
    "dataset=pd.read_csv('Expanded_data_with_more_features.csv')\n",
    "dataset.head(5)"
   ]
  },
  {
   "cell_type": "markdown",
   "id": "d7ae0579",
   "metadata": {},
   "source": [
    "# Preprocessing and  Visualization"
   ]
  },
  {
   "cell_type": "code",
   "execution_count": 4,
   "id": "01535756",
   "metadata": {},
   "outputs": [
    {
     "data": {
      "text/plain": [
       "(30641, 15)"
      ]
     },
     "execution_count": 4,
     "metadata": {},
     "output_type": "execute_result"
    }
   ],
   "source": [
    "dataset.shape"
   ]
  },
  {
   "cell_type": "code",
   "execution_count": null,
   "id": "bd064ebc",
   "metadata": {},
   "outputs": [],
   "source": [
    "dataset=dataset.drop('Unnamed: 0',axis=1)\n",
    "dataset.head()"
   ]
  },
  {
   "cell_type": "code",
   "execution_count": 6,
   "id": "54c988b7",
   "metadata": {},
   "outputs": [
    {
     "name": "stdout",
     "output_type": "stream",
     "text": [
      "<class 'pandas.core.frame.DataFrame'>\n",
      "RangeIndex: 30641 entries, 0 to 30640\n",
      "Data columns (total 15 columns):\n",
      " #   Column               Non-Null Count  Dtype  \n",
      "---  ------               --------------  -----  \n",
      " 0                        30641 non-null  int64  \n",
      " 1   Gender               30641 non-null  object \n",
      " 2   EthnicGroup          28801 non-null  object \n",
      " 3   ParentEduc           28796 non-null  object \n",
      " 4   LunchType            30641 non-null  object \n",
      " 5   TestPrep             28811 non-null  object \n",
      " 6   ParentMaritalStatus  29451 non-null  object \n",
      " 7   PracticeSport        30010 non-null  object \n",
      " 8   IsFirstChild         29737 non-null  object \n",
      " 9   NrSiblings           29069 non-null  float64\n",
      " 10  TransportMeans       27507 non-null  object \n",
      " 11  WklyStudyHours       29686 non-null  object \n",
      " 12  MathScore            30641 non-null  int64  \n",
      " 13  ReadingScore         30641 non-null  int64  \n",
      " 14  WritingScore         30641 non-null  int64  \n",
      "dtypes: float64(1), int64(4), object(10)\n",
      "memory usage: 3.5+ MB\n"
     ]
    }
   ],
   "source": [
    "dataset.info()"
   ]
  },
  {
   "cell_type": "code",
   "execution_count": 7,
   "id": "b42f1d2f",
   "metadata": {},
   "outputs": [
    {
     "data": {
      "text/html": [
       "<div>\n",
       "<style scoped>\n",
       "    .dataframe tbody tr th:only-of-type {\n",
       "        vertical-align: middle;\n",
       "    }\n",
       "\n",
       "    .dataframe tbody tr th {\n",
       "        vertical-align: top;\n",
       "    }\n",
       "\n",
       "    .dataframe thead th {\n",
       "        text-align: right;\n",
       "    }\n",
       "</style>\n",
       "<table border=\"1\" class=\"dataframe\">\n",
       "  <thead>\n",
       "    <tr style=\"text-align: right;\">\n",
       "      <th></th>\n",
       "      <th></th>\n",
       "      <th>NrSiblings</th>\n",
       "      <th>MathScore</th>\n",
       "      <th>ReadingScore</th>\n",
       "      <th>WritingScore</th>\n",
       "    </tr>\n",
       "  </thead>\n",
       "  <tbody>\n",
       "    <tr>\n",
       "      <th>count</th>\n",
       "      <td>30641.000000</td>\n",
       "      <td>29069.000000</td>\n",
       "      <td>30641.000000</td>\n",
       "      <td>30641.000000</td>\n",
       "      <td>30641.000000</td>\n",
       "    </tr>\n",
       "    <tr>\n",
       "      <th>mean</th>\n",
       "      <td>499.556607</td>\n",
       "      <td>2.145894</td>\n",
       "      <td>66.558402</td>\n",
       "      <td>69.377533</td>\n",
       "      <td>68.418622</td>\n",
       "    </tr>\n",
       "    <tr>\n",
       "      <th>std</th>\n",
       "      <td>288.747894</td>\n",
       "      <td>1.458242</td>\n",
       "      <td>15.361616</td>\n",
       "      <td>14.758952</td>\n",
       "      <td>15.443525</td>\n",
       "    </tr>\n",
       "    <tr>\n",
       "      <th>min</th>\n",
       "      <td>0.000000</td>\n",
       "      <td>0.000000</td>\n",
       "      <td>0.000000</td>\n",
       "      <td>10.000000</td>\n",
       "      <td>4.000000</td>\n",
       "    </tr>\n",
       "    <tr>\n",
       "      <th>25%</th>\n",
       "      <td>249.000000</td>\n",
       "      <td>1.000000</td>\n",
       "      <td>56.000000</td>\n",
       "      <td>59.000000</td>\n",
       "      <td>58.000000</td>\n",
       "    </tr>\n",
       "    <tr>\n",
       "      <th>50%</th>\n",
       "      <td>500.000000</td>\n",
       "      <td>2.000000</td>\n",
       "      <td>67.000000</td>\n",
       "      <td>70.000000</td>\n",
       "      <td>69.000000</td>\n",
       "    </tr>\n",
       "    <tr>\n",
       "      <th>75%</th>\n",
       "      <td>750.000000</td>\n",
       "      <td>3.000000</td>\n",
       "      <td>78.000000</td>\n",
       "      <td>80.000000</td>\n",
       "      <td>79.000000</td>\n",
       "    </tr>\n",
       "    <tr>\n",
       "      <th>max</th>\n",
       "      <td>999.000000</td>\n",
       "      <td>7.000000</td>\n",
       "      <td>100.000000</td>\n",
       "      <td>100.000000</td>\n",
       "      <td>100.000000</td>\n",
       "    </tr>\n",
       "  </tbody>\n",
       "</table>\n",
       "</div>"
      ],
      "text/plain": [
       "                       NrSiblings     MathScore  ReadingScore  WritingScore\n",
       "count  30641.000000  29069.000000  30641.000000  30641.000000  30641.000000\n",
       "mean     499.556607      2.145894     66.558402     69.377533     68.418622\n",
       "std      288.747894      1.458242     15.361616     14.758952     15.443525\n",
       "min        0.000000      0.000000      0.000000     10.000000      4.000000\n",
       "25%      249.000000      1.000000     56.000000     59.000000     58.000000\n",
       "50%      500.000000      2.000000     67.000000     70.000000     69.000000\n",
       "75%      750.000000      3.000000     78.000000     80.000000     79.000000\n",
       "max      999.000000      7.000000    100.000000    100.000000    100.000000"
      ]
     },
     "execution_count": 7,
     "metadata": {},
     "output_type": "execute_result"
    }
   ],
   "source": [
    "dataset.describe() #list numeric"
   ]
  },
  {
   "cell_type": "code",
   "execution_count": 8,
   "id": "6e9f52e3",
   "metadata": {},
   "outputs": [
    {
     "data": {
      "text/plain": [
       "array(['< 5', '10-May', '> 10', nan], dtype=object)"
      ]
     },
     "execution_count": 8,
     "metadata": {},
     "output_type": "execute_result"
    }
   ],
   "source": [
    "# fix Weekly study hours \n",
    "dataset['WklyStudyHours'].unique() "
   ]
  },
  {
   "cell_type": "code",
   "execution_count": 9,
   "id": "4b76234f",
   "metadata": {},
   "outputs": [
    {
     "data": {
      "text/plain": [
       "955"
      ]
     },
     "execution_count": 9,
     "metadata": {},
     "output_type": "execute_result"
    }
   ],
   "source": [
    "#delete nan in Weekly study hours \n",
    "#before delete the nan . i want see how many nulls in  Weekly study hours\n",
    "dataset['WklyStudyHours'].isna().sum()"
   ]
  },
  {
   "cell_type": "code",
   "execution_count": 10,
   "id": "62074b5d",
   "metadata": {},
   "outputs": [
    {
     "data": {
      "text/html": [
       "<div>\n",
       "<style scoped>\n",
       "    .dataframe tbody tr th:only-of-type {\n",
       "        vertical-align: middle;\n",
       "    }\n",
       "\n",
       "    .dataframe tbody tr th {\n",
       "        vertical-align: top;\n",
       "    }\n",
       "\n",
       "    .dataframe thead th {\n",
       "        text-align: right;\n",
       "    }\n",
       "</style>\n",
       "<table border=\"1\" class=\"dataframe\">\n",
       "  <thead>\n",
       "    <tr style=\"text-align: right;\">\n",
       "      <th></th>\n",
       "      <th></th>\n",
       "      <th>Gender</th>\n",
       "      <th>EthnicGroup</th>\n",
       "      <th>ParentEduc</th>\n",
       "      <th>LunchType</th>\n",
       "      <th>TestPrep</th>\n",
       "      <th>ParentMaritalStatus</th>\n",
       "      <th>PracticeSport</th>\n",
       "      <th>IsFirstChild</th>\n",
       "      <th>NrSiblings</th>\n",
       "      <th>TransportMeans</th>\n",
       "      <th>WklyStudyHours</th>\n",
       "      <th>MathScore</th>\n",
       "      <th>ReadingScore</th>\n",
       "      <th>WritingScore</th>\n",
       "    </tr>\n",
       "  </thead>\n",
       "  <tbody>\n",
       "    <tr>\n",
       "      <th>0</th>\n",
       "      <td>0</td>\n",
       "      <td>female</td>\n",
       "      <td>NaN</td>\n",
       "      <td>bachelor's degree</td>\n",
       "      <td>standard</td>\n",
       "      <td>none</td>\n",
       "      <td>married</td>\n",
       "      <td>regularly</td>\n",
       "      <td>yes</td>\n",
       "      <td>3.0</td>\n",
       "      <td>school_bus</td>\n",
       "      <td>&lt; 5</td>\n",
       "      <td>71</td>\n",
       "      <td>71</td>\n",
       "      <td>74</td>\n",
       "    </tr>\n",
       "    <tr>\n",
       "      <th>1</th>\n",
       "      <td>1</td>\n",
       "      <td>female</td>\n",
       "      <td>group C</td>\n",
       "      <td>some college</td>\n",
       "      <td>standard</td>\n",
       "      <td>NaN</td>\n",
       "      <td>married</td>\n",
       "      <td>sometimes</td>\n",
       "      <td>yes</td>\n",
       "      <td>0.0</td>\n",
       "      <td>NaN</td>\n",
       "      <td>10-May</td>\n",
       "      <td>69</td>\n",
       "      <td>90</td>\n",
       "      <td>88</td>\n",
       "    </tr>\n",
       "    <tr>\n",
       "      <th>2</th>\n",
       "      <td>2</td>\n",
       "      <td>female</td>\n",
       "      <td>group B</td>\n",
       "      <td>master's degree</td>\n",
       "      <td>standard</td>\n",
       "      <td>none</td>\n",
       "      <td>single</td>\n",
       "      <td>sometimes</td>\n",
       "      <td>yes</td>\n",
       "      <td>4.0</td>\n",
       "      <td>school_bus</td>\n",
       "      <td>&lt; 5</td>\n",
       "      <td>87</td>\n",
       "      <td>93</td>\n",
       "      <td>91</td>\n",
       "    </tr>\n",
       "    <tr>\n",
       "      <th>3</th>\n",
       "      <td>3</td>\n",
       "      <td>male</td>\n",
       "      <td>group A</td>\n",
       "      <td>associate's degree</td>\n",
       "      <td>free/reduced</td>\n",
       "      <td>none</td>\n",
       "      <td>married</td>\n",
       "      <td>never</td>\n",
       "      <td>no</td>\n",
       "      <td>1.0</td>\n",
       "      <td>NaN</td>\n",
       "      <td>10-May</td>\n",
       "      <td>45</td>\n",
       "      <td>56</td>\n",
       "      <td>42</td>\n",
       "    </tr>\n",
       "    <tr>\n",
       "      <th>4</th>\n",
       "      <td>4</td>\n",
       "      <td>male</td>\n",
       "      <td>group C</td>\n",
       "      <td>some college</td>\n",
       "      <td>standard</td>\n",
       "      <td>none</td>\n",
       "      <td>married</td>\n",
       "      <td>sometimes</td>\n",
       "      <td>yes</td>\n",
       "      <td>0.0</td>\n",
       "      <td>school_bus</td>\n",
       "      <td>10-May</td>\n",
       "      <td>76</td>\n",
       "      <td>78</td>\n",
       "      <td>75</td>\n",
       "    </tr>\n",
       "  </tbody>\n",
       "</table>\n",
       "</div>"
      ],
      "text/plain": [
       "      Gender EthnicGroup          ParentEduc     LunchType TestPrep  \\\n",
       "0  0  female         NaN   bachelor's degree      standard     none   \n",
       "1  1  female     group C        some college      standard      NaN   \n",
       "2  2  female     group B     master's degree      standard     none   \n",
       "3  3    male     group A  associate's degree  free/reduced     none   \n",
       "4  4    male     group C        some college      standard     none   \n",
       "\n",
       "  ParentMaritalStatus PracticeSport IsFirstChild  NrSiblings TransportMeans  \\\n",
       "0             married     regularly          yes         3.0     school_bus   \n",
       "1             married     sometimes          yes         0.0            NaN   \n",
       "2              single     sometimes          yes         4.0     school_bus   \n",
       "3             married         never           no         1.0            NaN   \n",
       "4             married     sometimes          yes         0.0     school_bus   \n",
       "\n",
       "  WklyStudyHours  MathScore  ReadingScore  WritingScore  \n",
       "0            < 5         71            71            74  \n",
       "1         10-May         69            90            88  \n",
       "2            < 5         87            93            91  \n",
       "3         10-May         45            56            42  \n",
       "4         10-May         76            78            75  "
      ]
     },
     "execution_count": 10,
     "metadata": {},
     "output_type": "execute_result"
    }
   ],
   "source": [
    "dataset['WklyStudyHours'].unique()\n",
    "dataset.head()"
   ]
  },
  {
   "cell_type": "code",
   "execution_count": 11,
   "id": "2daee480",
   "metadata": {},
   "outputs": [
    {
     "name": "stdout",
     "output_type": "stream",
     "text": [
      "<class 'pandas.core.frame.DataFrame'>\n",
      "RangeIndex: 30641 entries, 0 to 30640\n",
      "Data columns (total 15 columns):\n",
      " #   Column               Non-Null Count  Dtype  \n",
      "---  ------               --------------  -----  \n",
      " 0                        30641 non-null  int64  \n",
      " 1   Gender               30641 non-null  object \n",
      " 2   EthnicGroup          28801 non-null  object \n",
      " 3   ParentEduc           28796 non-null  object \n",
      " 4   LunchType            30641 non-null  object \n",
      " 5   TestPrep             28811 non-null  object \n",
      " 6   ParentMaritalStatus  29451 non-null  object \n",
      " 7   PracticeSport        30010 non-null  object \n",
      " 8   IsFirstChild         29737 non-null  object \n",
      " 9   NrSiblings           29069 non-null  float64\n",
      " 10  TransportMeans       27507 non-null  object \n",
      " 11  WklyStudyHours       29686 non-null  object \n",
      " 12  MathScore            30641 non-null  int64  \n",
      " 13  ReadingScore         30641 non-null  int64  \n",
      " 14  WritingScore         30641 non-null  int64  \n",
      "dtypes: float64(1), int64(4), object(10)\n",
      "memory usage: 3.5+ MB\n"
     ]
    }
   ],
   "source": [
    "dataset.info()"
   ]
  },
  {
   "cell_type": "code",
   "execution_count": 12,
   "id": "af1cda2d",
   "metadata": {},
   "outputs": [
    {
     "data": {
      "text/html": [
       "<div>\n",
       "<style scoped>\n",
       "    .dataframe tbody tr th:only-of-type {\n",
       "        vertical-align: middle;\n",
       "    }\n",
       "\n",
       "    .dataframe tbody tr th {\n",
       "        vertical-align: top;\n",
       "    }\n",
       "\n",
       "    .dataframe thead th {\n",
       "        text-align: right;\n",
       "    }\n",
       "</style>\n",
       "<table border=\"1\" class=\"dataframe\">\n",
       "  <thead>\n",
       "    <tr style=\"text-align: right;\">\n",
       "      <th></th>\n",
       "      <th></th>\n",
       "      <th>Gender</th>\n",
       "      <th>EthnicGroup</th>\n",
       "      <th>ParentEduc</th>\n",
       "      <th>LunchType</th>\n",
       "      <th>TestPrep</th>\n",
       "      <th>ParentMaritalStatus</th>\n",
       "      <th>PracticeSport</th>\n",
       "      <th>IsFirstChild</th>\n",
       "      <th>NrSiblings</th>\n",
       "      <th>TransportMeans</th>\n",
       "      <th>WklyStudyHours</th>\n",
       "      <th>MathScore</th>\n",
       "      <th>ReadingScore</th>\n",
       "      <th>WritingScore</th>\n",
       "    </tr>\n",
       "  </thead>\n",
       "  <tbody>\n",
       "    <tr>\n",
       "      <th>0</th>\n",
       "      <td>False</td>\n",
       "      <td>False</td>\n",
       "      <td>True</td>\n",
       "      <td>False</td>\n",
       "      <td>False</td>\n",
       "      <td>False</td>\n",
       "      <td>False</td>\n",
       "      <td>False</td>\n",
       "      <td>False</td>\n",
       "      <td>False</td>\n",
       "      <td>False</td>\n",
       "      <td>False</td>\n",
       "      <td>False</td>\n",
       "      <td>False</td>\n",
       "      <td>False</td>\n",
       "    </tr>\n",
       "    <tr>\n",
       "      <th>1</th>\n",
       "      <td>False</td>\n",
       "      <td>False</td>\n",
       "      <td>False</td>\n",
       "      <td>False</td>\n",
       "      <td>False</td>\n",
       "      <td>True</td>\n",
       "      <td>False</td>\n",
       "      <td>False</td>\n",
       "      <td>False</td>\n",
       "      <td>False</td>\n",
       "      <td>True</td>\n",
       "      <td>False</td>\n",
       "      <td>False</td>\n",
       "      <td>False</td>\n",
       "      <td>False</td>\n",
       "    </tr>\n",
       "    <tr>\n",
       "      <th>2</th>\n",
       "      <td>False</td>\n",
       "      <td>False</td>\n",
       "      <td>False</td>\n",
       "      <td>False</td>\n",
       "      <td>False</td>\n",
       "      <td>False</td>\n",
       "      <td>False</td>\n",
       "      <td>False</td>\n",
       "      <td>False</td>\n",
       "      <td>False</td>\n",
       "      <td>False</td>\n",
       "      <td>False</td>\n",
       "      <td>False</td>\n",
       "      <td>False</td>\n",
       "      <td>False</td>\n",
       "    </tr>\n",
       "    <tr>\n",
       "      <th>3</th>\n",
       "      <td>False</td>\n",
       "      <td>False</td>\n",
       "      <td>False</td>\n",
       "      <td>False</td>\n",
       "      <td>False</td>\n",
       "      <td>False</td>\n",
       "      <td>False</td>\n",
       "      <td>False</td>\n",
       "      <td>False</td>\n",
       "      <td>False</td>\n",
       "      <td>True</td>\n",
       "      <td>False</td>\n",
       "      <td>False</td>\n",
       "      <td>False</td>\n",
       "      <td>False</td>\n",
       "    </tr>\n",
       "    <tr>\n",
       "      <th>4</th>\n",
       "      <td>False</td>\n",
       "      <td>False</td>\n",
       "      <td>False</td>\n",
       "      <td>False</td>\n",
       "      <td>False</td>\n",
       "      <td>False</td>\n",
       "      <td>False</td>\n",
       "      <td>False</td>\n",
       "      <td>False</td>\n",
       "      <td>False</td>\n",
       "      <td>False</td>\n",
       "      <td>False</td>\n",
       "      <td>False</td>\n",
       "      <td>False</td>\n",
       "      <td>False</td>\n",
       "    </tr>\n",
       "    <tr>\n",
       "      <th>...</th>\n",
       "      <td>...</td>\n",
       "      <td>...</td>\n",
       "      <td>...</td>\n",
       "      <td>...</td>\n",
       "      <td>...</td>\n",
       "      <td>...</td>\n",
       "      <td>...</td>\n",
       "      <td>...</td>\n",
       "      <td>...</td>\n",
       "      <td>...</td>\n",
       "      <td>...</td>\n",
       "      <td>...</td>\n",
       "      <td>...</td>\n",
       "      <td>...</td>\n",
       "      <td>...</td>\n",
       "    </tr>\n",
       "    <tr>\n",
       "      <th>30636</th>\n",
       "      <td>False</td>\n",
       "      <td>False</td>\n",
       "      <td>False</td>\n",
       "      <td>False</td>\n",
       "      <td>False</td>\n",
       "      <td>False</td>\n",
       "      <td>False</td>\n",
       "      <td>False</td>\n",
       "      <td>False</td>\n",
       "      <td>False</td>\n",
       "      <td>False</td>\n",
       "      <td>False</td>\n",
       "      <td>False</td>\n",
       "      <td>False</td>\n",
       "      <td>False</td>\n",
       "    </tr>\n",
       "    <tr>\n",
       "      <th>30637</th>\n",
       "      <td>False</td>\n",
       "      <td>False</td>\n",
       "      <td>False</td>\n",
       "      <td>False</td>\n",
       "      <td>False</td>\n",
       "      <td>False</td>\n",
       "      <td>False</td>\n",
       "      <td>False</td>\n",
       "      <td>False</td>\n",
       "      <td>False</td>\n",
       "      <td>False</td>\n",
       "      <td>False</td>\n",
       "      <td>False</td>\n",
       "      <td>False</td>\n",
       "      <td>False</td>\n",
       "    </tr>\n",
       "    <tr>\n",
       "      <th>30638</th>\n",
       "      <td>False</td>\n",
       "      <td>False</td>\n",
       "      <td>True</td>\n",
       "      <td>False</td>\n",
       "      <td>False</td>\n",
       "      <td>False</td>\n",
       "      <td>False</td>\n",
       "      <td>False</td>\n",
       "      <td>False</td>\n",
       "      <td>False</td>\n",
       "      <td>False</td>\n",
       "      <td>False</td>\n",
       "      <td>False</td>\n",
       "      <td>False</td>\n",
       "      <td>False</td>\n",
       "    </tr>\n",
       "    <tr>\n",
       "      <th>30639</th>\n",
       "      <td>False</td>\n",
       "      <td>False</td>\n",
       "      <td>False</td>\n",
       "      <td>False</td>\n",
       "      <td>False</td>\n",
       "      <td>False</td>\n",
       "      <td>False</td>\n",
       "      <td>False</td>\n",
       "      <td>False</td>\n",
       "      <td>False</td>\n",
       "      <td>False</td>\n",
       "      <td>False</td>\n",
       "      <td>False</td>\n",
       "      <td>False</td>\n",
       "      <td>False</td>\n",
       "    </tr>\n",
       "    <tr>\n",
       "      <th>30640</th>\n",
       "      <td>False</td>\n",
       "      <td>False</td>\n",
       "      <td>False</td>\n",
       "      <td>False</td>\n",
       "      <td>False</td>\n",
       "      <td>False</td>\n",
       "      <td>False</td>\n",
       "      <td>False</td>\n",
       "      <td>False</td>\n",
       "      <td>False</td>\n",
       "      <td>False</td>\n",
       "      <td>False</td>\n",
       "      <td>False</td>\n",
       "      <td>False</td>\n",
       "      <td>False</td>\n",
       "    </tr>\n",
       "  </tbody>\n",
       "</table>\n",
       "<p>30641 rows × 15 columns</p>\n",
       "</div>"
      ],
      "text/plain": [
       "              Gender  EthnicGroup  ParentEduc  LunchType  TestPrep  \\\n",
       "0      False   False         True       False      False     False   \n",
       "1      False   False        False       False      False      True   \n",
       "2      False   False        False       False      False     False   \n",
       "3      False   False        False       False      False     False   \n",
       "4      False   False        False       False      False     False   \n",
       "...      ...     ...          ...         ...        ...       ...   \n",
       "30636  False   False        False       False      False     False   \n",
       "30637  False   False        False       False      False     False   \n",
       "30638  False   False         True       False      False     False   \n",
       "30639  False   False        False       False      False     False   \n",
       "30640  False   False        False       False      False     False   \n",
       "\n",
       "       ParentMaritalStatus  PracticeSport  IsFirstChild  NrSiblings  \\\n",
       "0                    False          False         False       False   \n",
       "1                    False          False         False       False   \n",
       "2                    False          False         False       False   \n",
       "3                    False          False         False       False   \n",
       "4                    False          False         False       False   \n",
       "...                    ...            ...           ...         ...   \n",
       "30636                False          False         False       False   \n",
       "30637                False          False         False       False   \n",
       "30638                False          False         False       False   \n",
       "30639                False          False         False       False   \n",
       "30640                False          False         False       False   \n",
       "\n",
       "       TransportMeans  WklyStudyHours  MathScore  ReadingScore  WritingScore  \n",
       "0               False           False      False         False         False  \n",
       "1                True           False      False         False         False  \n",
       "2               False           False      False         False         False  \n",
       "3                True           False      False         False         False  \n",
       "4               False           False      False         False         False  \n",
       "...               ...             ...        ...           ...           ...  \n",
       "30636           False           False      False         False         False  \n",
       "30637           False           False      False         False         False  \n",
       "30638           False           False      False         False         False  \n",
       "30639           False           False      False         False         False  \n",
       "30640           False           False      False         False         False  \n",
       "\n",
       "[30641 rows x 15 columns]"
      ]
     },
     "execution_count": 12,
     "metadata": {},
     "output_type": "execute_result"
    }
   ],
   "source": [
    "dataset.isna()"
   ]
  },
  {
   "cell_type": "code",
   "execution_count": 13,
   "id": "8a35911d",
   "metadata": {},
   "outputs": [
    {
     "name": "stdout",
     "output_type": "stream",
     "text": [
      "2.0\n"
     ]
    }
   ],
   "source": [
    "Q1 = dataset['NrSiblings'].quantile(0.25)\n",
    "Q3 = dataset['NrSiblings'].quantile(0.75)\n",
    "IQR = Q3 - Q1\n",
    "print(IQR)\n"
   ]
  },
  {
   "cell_type": "code",
   "execution_count": 14,
   "id": "5e4c41dd",
   "metadata": {},
   "outputs": [
    {
     "name": "stdout",
     "output_type": "stream",
     "text": [
      "0.6762659287127112\n"
     ]
    }
   ],
   "source": [
    "print(dataset['NrSiblings'].skew())"
   ]
  },
  {
   "cell_type": "code",
   "execution_count": 15,
   "id": "ec5afc7e",
   "metadata": {},
   "outputs": [
    {
     "name": "stdout",
     "output_type": "stream",
     "text": [
      "2.0\n"
     ]
    }
   ],
   "source": [
    "median = dataset['NrSiblings'].median()\n",
    "\n",
    "# Replace missing values with the median value\n",
    "dataset['NrSiblings'].fillna(median, inplace=True)\n",
    "print(median)"
   ]
  },
  {
   "cell_type": "code",
   "execution_count": 16,
   "id": "2c56a6e8",
   "metadata": {},
   "outputs": [],
   "source": [
    "outliers = dataset[(dataset['NrSiblings'] < Q1 - 1.5*IQR) | (dataset['NrSiblings'] > Q3 + 1.5*IQR)]\n",
    "\n",
    "# Replace outliers with the median value\n",
    "median = dataset['NrSiblings'].median()\n",
    "dataset.loc[outliers.index, 'NrSiblings'] = median"
   ]
  },
  {
   "cell_type": "code",
   "execution_count": 17,
   "id": "d14aee8e",
   "metadata": {},
   "outputs": [],
   "source": [
    "dataset['NrSiblings'] = dataset['NrSiblings'].astype(int)"
   ]
  },
  {
   "cell_type": "code",
   "execution_count": 18,
   "id": "1fa42a4f",
   "metadata": {},
   "outputs": [
    {
     "data": {
      "text/html": [
       "<div>\n",
       "<style scoped>\n",
       "    .dataframe tbody tr th:only-of-type {\n",
       "        vertical-align: middle;\n",
       "    }\n",
       "\n",
       "    .dataframe tbody tr th {\n",
       "        vertical-align: top;\n",
       "    }\n",
       "\n",
       "    .dataframe thead th {\n",
       "        text-align: right;\n",
       "    }\n",
       "</style>\n",
       "<table border=\"1\" class=\"dataframe\">\n",
       "  <thead>\n",
       "    <tr style=\"text-align: right;\">\n",
       "      <th></th>\n",
       "      <th></th>\n",
       "      <th>Gender</th>\n",
       "      <th>EthnicGroup</th>\n",
       "      <th>ParentEduc</th>\n",
       "      <th>LunchType</th>\n",
       "      <th>TestPrep</th>\n",
       "      <th>ParentMaritalStatus</th>\n",
       "      <th>PracticeSport</th>\n",
       "      <th>IsFirstChild</th>\n",
       "      <th>NrSiblings</th>\n",
       "      <th>TransportMeans</th>\n",
       "      <th>WklyStudyHours</th>\n",
       "      <th>MathScore</th>\n",
       "      <th>ReadingScore</th>\n",
       "      <th>WritingScore</th>\n",
       "    </tr>\n",
       "  </thead>\n",
       "  <tbody>\n",
       "    <tr>\n",
       "      <th>0</th>\n",
       "      <td>0</td>\n",
       "      <td>female</td>\n",
       "      <td>NaN</td>\n",
       "      <td>bachelor's degree</td>\n",
       "      <td>standard</td>\n",
       "      <td>none</td>\n",
       "      <td>married</td>\n",
       "      <td>regularly</td>\n",
       "      <td>yes</td>\n",
       "      <td>3</td>\n",
       "      <td>school_bus</td>\n",
       "      <td>&lt; 5</td>\n",
       "      <td>71</td>\n",
       "      <td>71</td>\n",
       "      <td>74</td>\n",
       "    </tr>\n",
       "    <tr>\n",
       "      <th>1</th>\n",
       "      <td>1</td>\n",
       "      <td>female</td>\n",
       "      <td>group C</td>\n",
       "      <td>some college</td>\n",
       "      <td>standard</td>\n",
       "      <td>NaN</td>\n",
       "      <td>married</td>\n",
       "      <td>sometimes</td>\n",
       "      <td>yes</td>\n",
       "      <td>0</td>\n",
       "      <td>NaN</td>\n",
       "      <td>10-May</td>\n",
       "      <td>69</td>\n",
       "      <td>90</td>\n",
       "      <td>88</td>\n",
       "    </tr>\n",
       "    <tr>\n",
       "      <th>2</th>\n",
       "      <td>2</td>\n",
       "      <td>female</td>\n",
       "      <td>group B</td>\n",
       "      <td>master's degree</td>\n",
       "      <td>standard</td>\n",
       "      <td>none</td>\n",
       "      <td>single</td>\n",
       "      <td>sometimes</td>\n",
       "      <td>yes</td>\n",
       "      <td>4</td>\n",
       "      <td>school_bus</td>\n",
       "      <td>&lt; 5</td>\n",
       "      <td>87</td>\n",
       "      <td>93</td>\n",
       "      <td>91</td>\n",
       "    </tr>\n",
       "    <tr>\n",
       "      <th>3</th>\n",
       "      <td>3</td>\n",
       "      <td>male</td>\n",
       "      <td>group A</td>\n",
       "      <td>associate's degree</td>\n",
       "      <td>free/reduced</td>\n",
       "      <td>none</td>\n",
       "      <td>married</td>\n",
       "      <td>never</td>\n",
       "      <td>no</td>\n",
       "      <td>1</td>\n",
       "      <td>NaN</td>\n",
       "      <td>10-May</td>\n",
       "      <td>45</td>\n",
       "      <td>56</td>\n",
       "      <td>42</td>\n",
       "    </tr>\n",
       "    <tr>\n",
       "      <th>4</th>\n",
       "      <td>4</td>\n",
       "      <td>male</td>\n",
       "      <td>group C</td>\n",
       "      <td>some college</td>\n",
       "      <td>standard</td>\n",
       "      <td>none</td>\n",
       "      <td>married</td>\n",
       "      <td>sometimes</td>\n",
       "      <td>yes</td>\n",
       "      <td>0</td>\n",
       "      <td>school_bus</td>\n",
       "      <td>10-May</td>\n",
       "      <td>76</td>\n",
       "      <td>78</td>\n",
       "      <td>75</td>\n",
       "    </tr>\n",
       "    <tr>\n",
       "      <th>...</th>\n",
       "      <td>...</td>\n",
       "      <td>...</td>\n",
       "      <td>...</td>\n",
       "      <td>...</td>\n",
       "      <td>...</td>\n",
       "      <td>...</td>\n",
       "      <td>...</td>\n",
       "      <td>...</td>\n",
       "      <td>...</td>\n",
       "      <td>...</td>\n",
       "      <td>...</td>\n",
       "      <td>...</td>\n",
       "      <td>...</td>\n",
       "      <td>...</td>\n",
       "      <td>...</td>\n",
       "    </tr>\n",
       "    <tr>\n",
       "      <th>30636</th>\n",
       "      <td>816</td>\n",
       "      <td>female</td>\n",
       "      <td>group D</td>\n",
       "      <td>high school</td>\n",
       "      <td>standard</td>\n",
       "      <td>none</td>\n",
       "      <td>single</td>\n",
       "      <td>sometimes</td>\n",
       "      <td>no</td>\n",
       "      <td>2</td>\n",
       "      <td>school_bus</td>\n",
       "      <td>10-May</td>\n",
       "      <td>59</td>\n",
       "      <td>61</td>\n",
       "      <td>65</td>\n",
       "    </tr>\n",
       "    <tr>\n",
       "      <th>30637</th>\n",
       "      <td>890</td>\n",
       "      <td>male</td>\n",
       "      <td>group E</td>\n",
       "      <td>high school</td>\n",
       "      <td>standard</td>\n",
       "      <td>none</td>\n",
       "      <td>single</td>\n",
       "      <td>regularly</td>\n",
       "      <td>no</td>\n",
       "      <td>1</td>\n",
       "      <td>private</td>\n",
       "      <td>10-May</td>\n",
       "      <td>58</td>\n",
       "      <td>53</td>\n",
       "      <td>51</td>\n",
       "    </tr>\n",
       "    <tr>\n",
       "      <th>30638</th>\n",
       "      <td>911</td>\n",
       "      <td>female</td>\n",
       "      <td>NaN</td>\n",
       "      <td>high school</td>\n",
       "      <td>free/reduced</td>\n",
       "      <td>completed</td>\n",
       "      <td>married</td>\n",
       "      <td>sometimes</td>\n",
       "      <td>no</td>\n",
       "      <td>1</td>\n",
       "      <td>private</td>\n",
       "      <td>10-May</td>\n",
       "      <td>61</td>\n",
       "      <td>70</td>\n",
       "      <td>67</td>\n",
       "    </tr>\n",
       "    <tr>\n",
       "      <th>30639</th>\n",
       "      <td>934</td>\n",
       "      <td>female</td>\n",
       "      <td>group D</td>\n",
       "      <td>associate's degree</td>\n",
       "      <td>standard</td>\n",
       "      <td>completed</td>\n",
       "      <td>married</td>\n",
       "      <td>regularly</td>\n",
       "      <td>no</td>\n",
       "      <td>3</td>\n",
       "      <td>school_bus</td>\n",
       "      <td>10-May</td>\n",
       "      <td>82</td>\n",
       "      <td>90</td>\n",
       "      <td>93</td>\n",
       "    </tr>\n",
       "    <tr>\n",
       "      <th>30640</th>\n",
       "      <td>960</td>\n",
       "      <td>male</td>\n",
       "      <td>group B</td>\n",
       "      <td>some college</td>\n",
       "      <td>standard</td>\n",
       "      <td>none</td>\n",
       "      <td>married</td>\n",
       "      <td>never</td>\n",
       "      <td>no</td>\n",
       "      <td>1</td>\n",
       "      <td>school_bus</td>\n",
       "      <td>10-May</td>\n",
       "      <td>64</td>\n",
       "      <td>60</td>\n",
       "      <td>58</td>\n",
       "    </tr>\n",
       "  </tbody>\n",
       "</table>\n",
       "<p>30641 rows × 15 columns</p>\n",
       "</div>"
      ],
      "text/plain": [
       "            Gender EthnicGroup          ParentEduc     LunchType   TestPrep  \\\n",
       "0        0  female         NaN   bachelor's degree      standard       none   \n",
       "1        1  female     group C        some college      standard        NaN   \n",
       "2        2  female     group B     master's degree      standard       none   \n",
       "3        3    male     group A  associate's degree  free/reduced       none   \n",
       "4        4    male     group C        some college      standard       none   \n",
       "...    ...     ...         ...                 ...           ...        ...   \n",
       "30636  816  female     group D         high school      standard       none   \n",
       "30637  890    male     group E         high school      standard       none   \n",
       "30638  911  female         NaN         high school  free/reduced  completed   \n",
       "30639  934  female     group D  associate's degree      standard  completed   \n",
       "30640  960    male     group B        some college      standard       none   \n",
       "\n",
       "      ParentMaritalStatus PracticeSport IsFirstChild  NrSiblings  \\\n",
       "0                 married     regularly          yes           3   \n",
       "1                 married     sometimes          yes           0   \n",
       "2                  single     sometimes          yes           4   \n",
       "3                 married         never           no           1   \n",
       "4                 married     sometimes          yes           0   \n",
       "...                   ...           ...          ...         ...   \n",
       "30636              single     sometimes           no           2   \n",
       "30637              single     regularly           no           1   \n",
       "30638             married     sometimes           no           1   \n",
       "30639             married     regularly           no           3   \n",
       "30640             married         never           no           1   \n",
       "\n",
       "      TransportMeans WklyStudyHours  MathScore  ReadingScore  WritingScore  \n",
       "0         school_bus            < 5         71            71            74  \n",
       "1                NaN         10-May         69            90            88  \n",
       "2         school_bus            < 5         87            93            91  \n",
       "3                NaN         10-May         45            56            42  \n",
       "4         school_bus         10-May         76            78            75  \n",
       "...              ...            ...        ...           ...           ...  \n",
       "30636     school_bus         10-May         59            61            65  \n",
       "30637        private         10-May         58            53            51  \n",
       "30638        private         10-May         61            70            67  \n",
       "30639     school_bus         10-May         82            90            93  \n",
       "30640     school_bus         10-May         64            60            58  \n",
       "\n",
       "[30641 rows x 15 columns]"
      ]
     },
     "execution_count": 18,
     "metadata": {},
     "output_type": "execute_result"
    }
   ],
   "source": [
    "dataset"
   ]
  },
  {
   "cell_type": "code",
   "execution_count": 19,
   "id": "2324d06b",
   "metadata": {},
   "outputs": [],
   "source": [
    "#Fill NaN values at  columns by mode\n",
    "mode = dataset['IsFirstChild'].mode()[0]\n",
    "dataset['IsFirstChild'].fillna(mode, inplace=True)\n",
    "mode = dataset['EthnicGroup'].mode()[0]\n",
    "dataset['EthnicGroup'].fillna(mode, inplace=True)\n",
    "mode = dataset['ParentEduc'].mode()[0]\n",
    "dataset['ParentEduc'].fillna(mode, inplace=True)\n",
    "mode = dataset['TestPrep'].mode()[0]\n",
    "dataset['TestPrep'].fillna(mode, inplace=True)\n",
    "mode = dataset['ParentMaritalStatus'].mode()[0] \n",
    "dataset['ParentMaritalStatus'].fillna(mode, inplace=True)\n",
    "mode = dataset['PracticeSport'].mode()[0]\n",
    "dataset['PracticeSport'].fillna(mode, inplace=True)\n",
    "mode = dataset['TransportMeans'].mode()[0]\n",
    "dataset['TransportMeans'].fillna(mode, inplace=True)"
   ]
  },
  {
   "cell_type": "code",
   "execution_count": 20,
   "id": "087f8a37",
   "metadata": {},
   "outputs": [
    {
     "data": {
      "text/html": [
       "<div>\n",
       "<style scoped>\n",
       "    .dataframe tbody tr th:only-of-type {\n",
       "        vertical-align: middle;\n",
       "    }\n",
       "\n",
       "    .dataframe tbody tr th {\n",
       "        vertical-align: top;\n",
       "    }\n",
       "\n",
       "    .dataframe thead th {\n",
       "        text-align: right;\n",
       "    }\n",
       "</style>\n",
       "<table border=\"1\" class=\"dataframe\">\n",
       "  <thead>\n",
       "    <tr style=\"text-align: right;\">\n",
       "      <th></th>\n",
       "      <th></th>\n",
       "      <th>Gender</th>\n",
       "      <th>EthnicGroup</th>\n",
       "      <th>ParentEduc</th>\n",
       "      <th>LunchType</th>\n",
       "      <th>TestPrep</th>\n",
       "      <th>ParentMaritalStatus</th>\n",
       "      <th>PracticeSport</th>\n",
       "      <th>IsFirstChild</th>\n",
       "      <th>NrSiblings</th>\n",
       "      <th>TransportMeans</th>\n",
       "      <th>WklyStudyHours</th>\n",
       "      <th>MathScore</th>\n",
       "      <th>ReadingScore</th>\n",
       "      <th>WritingScore</th>\n",
       "    </tr>\n",
       "  </thead>\n",
       "  <tbody>\n",
       "    <tr>\n",
       "      <th>0</th>\n",
       "      <td>0</td>\n",
       "      <td>female</td>\n",
       "      <td>group C</td>\n",
       "      <td>bachelor's degree</td>\n",
       "      <td>standard</td>\n",
       "      <td>none</td>\n",
       "      <td>married</td>\n",
       "      <td>regularly</td>\n",
       "      <td>yes</td>\n",
       "      <td>3</td>\n",
       "      <td>school_bus</td>\n",
       "      <td>&lt; 5</td>\n",
       "      <td>71</td>\n",
       "      <td>71</td>\n",
       "      <td>74</td>\n",
       "    </tr>\n",
       "    <tr>\n",
       "      <th>1</th>\n",
       "      <td>1</td>\n",
       "      <td>female</td>\n",
       "      <td>group C</td>\n",
       "      <td>some college</td>\n",
       "      <td>standard</td>\n",
       "      <td>none</td>\n",
       "      <td>married</td>\n",
       "      <td>sometimes</td>\n",
       "      <td>yes</td>\n",
       "      <td>0</td>\n",
       "      <td>school_bus</td>\n",
       "      <td>10-May</td>\n",
       "      <td>69</td>\n",
       "      <td>90</td>\n",
       "      <td>88</td>\n",
       "    </tr>\n",
       "    <tr>\n",
       "      <th>2</th>\n",
       "      <td>2</td>\n",
       "      <td>female</td>\n",
       "      <td>group B</td>\n",
       "      <td>master's degree</td>\n",
       "      <td>standard</td>\n",
       "      <td>none</td>\n",
       "      <td>single</td>\n",
       "      <td>sometimes</td>\n",
       "      <td>yes</td>\n",
       "      <td>4</td>\n",
       "      <td>school_bus</td>\n",
       "      <td>&lt; 5</td>\n",
       "      <td>87</td>\n",
       "      <td>93</td>\n",
       "      <td>91</td>\n",
       "    </tr>\n",
       "    <tr>\n",
       "      <th>3</th>\n",
       "      <td>3</td>\n",
       "      <td>male</td>\n",
       "      <td>group A</td>\n",
       "      <td>associate's degree</td>\n",
       "      <td>free/reduced</td>\n",
       "      <td>none</td>\n",
       "      <td>married</td>\n",
       "      <td>never</td>\n",
       "      <td>no</td>\n",
       "      <td>1</td>\n",
       "      <td>school_bus</td>\n",
       "      <td>10-May</td>\n",
       "      <td>45</td>\n",
       "      <td>56</td>\n",
       "      <td>42</td>\n",
       "    </tr>\n",
       "    <tr>\n",
       "      <th>4</th>\n",
       "      <td>4</td>\n",
       "      <td>male</td>\n",
       "      <td>group C</td>\n",
       "      <td>some college</td>\n",
       "      <td>standard</td>\n",
       "      <td>none</td>\n",
       "      <td>married</td>\n",
       "      <td>sometimes</td>\n",
       "      <td>yes</td>\n",
       "      <td>0</td>\n",
       "      <td>school_bus</td>\n",
       "      <td>10-May</td>\n",
       "      <td>76</td>\n",
       "      <td>78</td>\n",
       "      <td>75</td>\n",
       "    </tr>\n",
       "    <tr>\n",
       "      <th>5</th>\n",
       "      <td>5</td>\n",
       "      <td>female</td>\n",
       "      <td>group B</td>\n",
       "      <td>associate's degree</td>\n",
       "      <td>standard</td>\n",
       "      <td>none</td>\n",
       "      <td>married</td>\n",
       "      <td>regularly</td>\n",
       "      <td>yes</td>\n",
       "      <td>1</td>\n",
       "      <td>school_bus</td>\n",
       "      <td>10-May</td>\n",
       "      <td>73</td>\n",
       "      <td>84</td>\n",
       "      <td>79</td>\n",
       "    </tr>\n",
       "    <tr>\n",
       "      <th>6</th>\n",
       "      <td>6</td>\n",
       "      <td>female</td>\n",
       "      <td>group B</td>\n",
       "      <td>some college</td>\n",
       "      <td>standard</td>\n",
       "      <td>completed</td>\n",
       "      <td>widowed</td>\n",
       "      <td>never</td>\n",
       "      <td>no</td>\n",
       "      <td>1</td>\n",
       "      <td>private</td>\n",
       "      <td>10-May</td>\n",
       "      <td>85</td>\n",
       "      <td>93</td>\n",
       "      <td>89</td>\n",
       "    </tr>\n",
       "    <tr>\n",
       "      <th>7</th>\n",
       "      <td>7</td>\n",
       "      <td>male</td>\n",
       "      <td>group B</td>\n",
       "      <td>some college</td>\n",
       "      <td>free/reduced</td>\n",
       "      <td>none</td>\n",
       "      <td>married</td>\n",
       "      <td>sometimes</td>\n",
       "      <td>yes</td>\n",
       "      <td>1</td>\n",
       "      <td>private</td>\n",
       "      <td>&gt; 10</td>\n",
       "      <td>41</td>\n",
       "      <td>43</td>\n",
       "      <td>39</td>\n",
       "    </tr>\n",
       "    <tr>\n",
       "      <th>8</th>\n",
       "      <td>8</td>\n",
       "      <td>male</td>\n",
       "      <td>group D</td>\n",
       "      <td>high school</td>\n",
       "      <td>free/reduced</td>\n",
       "      <td>completed</td>\n",
       "      <td>single</td>\n",
       "      <td>sometimes</td>\n",
       "      <td>no</td>\n",
       "      <td>3</td>\n",
       "      <td>private</td>\n",
       "      <td>&gt; 10</td>\n",
       "      <td>65</td>\n",
       "      <td>64</td>\n",
       "      <td>68</td>\n",
       "    </tr>\n",
       "    <tr>\n",
       "      <th>9</th>\n",
       "      <td>9</td>\n",
       "      <td>female</td>\n",
       "      <td>group B</td>\n",
       "      <td>high school</td>\n",
       "      <td>free/reduced</td>\n",
       "      <td>none</td>\n",
       "      <td>married</td>\n",
       "      <td>regularly</td>\n",
       "      <td>yes</td>\n",
       "      <td>2</td>\n",
       "      <td>private</td>\n",
       "      <td>&lt; 5</td>\n",
       "      <td>37</td>\n",
       "      <td>59</td>\n",
       "      <td>50</td>\n",
       "    </tr>\n",
       "  </tbody>\n",
       "</table>\n",
       "</div>"
      ],
      "text/plain": [
       "      Gender EthnicGroup          ParentEduc     LunchType   TestPrep  \\\n",
       "0  0  female     group C   bachelor's degree      standard       none   \n",
       "1  1  female     group C        some college      standard       none   \n",
       "2  2  female     group B     master's degree      standard       none   \n",
       "3  3    male     group A  associate's degree  free/reduced       none   \n",
       "4  4    male     group C        some college      standard       none   \n",
       "5  5  female     group B  associate's degree      standard       none   \n",
       "6  6  female     group B        some college      standard  completed   \n",
       "7  7    male     group B        some college  free/reduced       none   \n",
       "8  8    male     group D         high school  free/reduced  completed   \n",
       "9  9  female     group B         high school  free/reduced       none   \n",
       "\n",
       "  ParentMaritalStatus PracticeSport IsFirstChild  NrSiblings TransportMeans  \\\n",
       "0             married     regularly          yes           3     school_bus   \n",
       "1             married     sometimes          yes           0     school_bus   \n",
       "2              single     sometimes          yes           4     school_bus   \n",
       "3             married         never           no           1     school_bus   \n",
       "4             married     sometimes          yes           0     school_bus   \n",
       "5             married     regularly          yes           1     school_bus   \n",
       "6             widowed         never           no           1        private   \n",
       "7             married     sometimes          yes           1        private   \n",
       "8              single     sometimes           no           3        private   \n",
       "9             married     regularly          yes           2        private   \n",
       "\n",
       "  WklyStudyHours  MathScore  ReadingScore  WritingScore  \n",
       "0            < 5         71            71            74  \n",
       "1         10-May         69            90            88  \n",
       "2            < 5         87            93            91  \n",
       "3         10-May         45            56            42  \n",
       "4         10-May         76            78            75  \n",
       "5         10-May         73            84            79  \n",
       "6         10-May         85            93            89  \n",
       "7           > 10         41            43            39  \n",
       "8           > 10         65            64            68  \n",
       "9            < 5         37            59            50  "
      ]
     },
     "execution_count": 20,
     "metadata": {},
     "output_type": "execute_result"
    }
   ],
   "source": [
    "dataset.head(10)"
   ]
  },
  {
   "cell_type": "code",
   "execution_count": 21,
   "id": "9ced73c5",
   "metadata": {},
   "outputs": [],
   "source": [
    "#Add OverallScore column\n",
    "dataset['OverallScore'] = round((dataset['MathScore'] + dataset['ReadingScore'] + dataset['WritingScore'])/3, 2)"
   ]
  },
  {
   "cell_type": "code",
   "execution_count": 22,
   "id": "60bdb0d6",
   "metadata": {},
   "outputs": [],
   "source": [
    " #Convert a float column to an object column\n",
    "dataset['WklyStudyHours'] = dataset['WklyStudyHours'].astype(str)"
   ]
  },
  {
   "cell_type": "code",
   "execution_count": 23,
   "id": "553431ef",
   "metadata": {},
   "outputs": [],
   "source": [
    "mode = dataset['WklyStudyHours'].mode() # Calculate the median\n",
    "dataset['WklyStudyHours'].fillna(mode, inplace=True) # Replace missing values with median"
   ]
  },
  {
   "cell_type": "code",
   "execution_count": 24,
   "id": "80426181",
   "metadata": {},
   "outputs": [
    {
     "name": "stdout",
     "output_type": "stream",
     "text": [
      "                         int64\n",
      "Gender                  object\n",
      "EthnicGroup             object\n",
      "ParentEduc              object\n",
      "LunchType               object\n",
      "TestPrep                object\n",
      "ParentMaritalStatus     object\n",
      "PracticeSport           object\n",
      "IsFirstChild            object\n",
      "NrSiblings               int32\n",
      "TransportMeans          object\n",
      "WklyStudyHours          object\n",
      "MathScore                int64\n",
      "ReadingScore             int64\n",
      "WritingScore             int64\n",
      "OverallScore           float64\n",
      "dtype: object\n"
     ]
    }
   ],
   "source": [
    "print(dataset.dtypes)"
   ]
  },
  {
   "cell_type": "code",
   "execution_count": 25,
   "id": "2de74315",
   "metadata": {},
   "outputs": [
    {
     "name": "stdout",
     "output_type": "stream",
     "text": [
      "<class 'pandas.core.frame.DataFrame'>\n",
      "RangeIndex: 30641 entries, 0 to 30640\n",
      "Data columns (total 16 columns):\n",
      " #   Column               Non-Null Count  Dtype  \n",
      "---  ------               --------------  -----  \n",
      " 0                        30641 non-null  int64  \n",
      " 1   Gender               30641 non-null  object \n",
      " 2   EthnicGroup          30641 non-null  object \n",
      " 3   ParentEduc           30641 non-null  object \n",
      " 4   LunchType            30641 non-null  object \n",
      " 5   TestPrep             30641 non-null  object \n",
      " 6   ParentMaritalStatus  30641 non-null  object \n",
      " 7   PracticeSport        30641 non-null  object \n",
      " 8   IsFirstChild         30641 non-null  object \n",
      " 9   NrSiblings           30641 non-null  int32  \n",
      " 10  TransportMeans       30641 non-null  object \n",
      " 11  WklyStudyHours       30641 non-null  object \n",
      " 12  MathScore            30641 non-null  int64  \n",
      " 13  ReadingScore         30641 non-null  int64  \n",
      " 14  WritingScore         30641 non-null  int64  \n",
      " 15  OverallScore         30641 non-null  float64\n",
      "dtypes: float64(1), int32(1), int64(4), object(10)\n",
      "memory usage: 3.6+ MB\n"
     ]
    }
   ],
   "source": [
    "dataset.info()"
   ]
  },
  {
   "cell_type": "code",
   "execution_count": 26,
   "id": "fba92fef",
   "metadata": {},
   "outputs": [],
   "source": [
    "mode = dataset['WklyStudyHours'].mode()[0]\n",
    "dataset['WklyStudyHours'].fillna(mode, inplace=True)"
   ]
  },
  {
   "cell_type": "code",
   "execution_count": 27,
   "id": "f65e19a8",
   "metadata": {},
   "outputs": [],
   "source": [
    "dataset_orig = dataset.copy()"
   ]
  },
  {
   "cell_type": "code",
   "execution_count": 28,
   "id": "dd9bce30",
   "metadata": {},
   "outputs": [
    {
     "name": "stdout",
     "output_type": "stream",
     "text": [
      "<class 'pandas.core.frame.DataFrame'>\n",
      "RangeIndex: 30641 entries, 0 to 30640\n",
      "Data columns (total 16 columns):\n",
      " #   Column               Non-Null Count  Dtype  \n",
      "---  ------               --------------  -----  \n",
      " 0                        30641 non-null  int64  \n",
      " 1   Gender               30641 non-null  object \n",
      " 2   EthnicGroup          30641 non-null  object \n",
      " 3   ParentEduc           30641 non-null  object \n",
      " 4   LunchType            30641 non-null  object \n",
      " 5   TestPrep             30641 non-null  object \n",
      " 6   ParentMaritalStatus  30641 non-null  object \n",
      " 7   PracticeSport        30641 non-null  object \n",
      " 8   IsFirstChild         30641 non-null  object \n",
      " 9   NrSiblings           30641 non-null  int32  \n",
      " 10  TransportMeans       30641 non-null  object \n",
      " 11  WklyStudyHours       30641 non-null  object \n",
      " 12  MathScore            30641 non-null  int64  \n",
      " 13  ReadingScore         30641 non-null  int64  \n",
      " 14  WritingScore         30641 non-null  int64  \n",
      " 15  OverallScore         30641 non-null  float64\n",
      "dtypes: float64(1), int32(1), int64(4), object(10)\n",
      "memory usage: 3.6+ MB\n"
     ]
    }
   ],
   "source": [
    "dataset.info()"
   ]
  },
  {
   "cell_type": "code",
   "execution_count": 29,
   "id": "a34be0e9",
   "metadata": {},
   "outputs": [
    {
     "name": "stdout",
     "output_type": "stream",
     "text": [
      "MathScore       22.0\n",
      "ReadingScore    21.0\n",
      "WritingScore    21.0\n",
      "dtype: float64\n"
     ]
    },
    {
     "name": "stderr",
     "output_type": "stream",
     "text": [
      "C:\\Users\\1\\AppData\\Local\\Temp\\ipykernel_20760\\4143420533.py:2: FutureWarning: The default value of numeric_only in DataFrame.quantile is deprecated. In a future version, it will default to False. Select only valid columns or specify the value of numeric_only to silence this warning.\n",
      "  Q1 = dataset.quantile(0.25)\n",
      "C:\\Users\\1\\AppData\\Local\\Temp\\ipykernel_20760\\4143420533.py:3: FutureWarning: The default value of numeric_only in DataFrame.quantile is deprecated. In a future version, it will default to False. Select only valid columns or specify the value of numeric_only to silence this warning.\n",
      "  Q3 = dataset.quantile(0.75)\n"
     ]
    }
   ],
   "source": [
    "dataset=dataset[['WklyStudyHours','MathScore','ReadingScore','WritingScore']]\n",
    "Q1 = dataset.quantile(0.25)\n",
    "Q3 = dataset.quantile(0.75)\n",
    "IQR = Q3 - Q1\n",
    "print(IQR)"
   ]
  },
  {
   "cell_type": "code",
   "execution_count": 30,
   "id": "25a08121",
   "metadata": {},
   "outputs": [
    {
     "name": "stdout",
     "output_type": "stream",
     "text": [
      "       MathScore  ReadingScore  WklyStudyHours  WritingScore\n",
      "0          False         False           False         False\n",
      "1          False         False           False         False\n",
      "2          False         False           False         False\n",
      "3          False         False           False         False\n",
      "4          False         False           False         False\n",
      "...          ...           ...             ...           ...\n",
      "30636      False         False           False         False\n",
      "30637      False         False           False         False\n",
      "30638      False         False           False         False\n",
      "30639      False         False           False         False\n",
      "30640      False         False           False         False\n",
      "\n",
      "[30641 rows x 4 columns]\n"
     ]
    },
    {
     "name": "stderr",
     "output_type": "stream",
     "text": [
      "C:\\Users\\1\\AppData\\Local\\Temp\\ipykernel_20760\\3311528332.py:1: FutureWarning: Automatic reindexing on DataFrame vs Series comparisons is deprecated and will raise ValueError in a future version. Do `left, right = left.align(right, axis=1, copy=False)` before e.g. `left == right`\n",
      "  print((dataset<(Q1 - 1.5*IQR))| dataset>Q3+1.5*IQR)\n"
     ]
    }
   ],
   "source": [
    "print((dataset<(Q1 - 1.5*IQR))| dataset>Q3+1.5*IQR)"
   ]
  },
  {
   "cell_type": "code",
   "execution_count": 31,
   "id": "d69d6374",
   "metadata": {},
   "outputs": [
    {
     "data": {
      "text/html": [
       "<div>\n",
       "<style scoped>\n",
       "    .dataframe tbody tr th:only-of-type {\n",
       "        vertical-align: middle;\n",
       "    }\n",
       "\n",
       "    .dataframe tbody tr th {\n",
       "        vertical-align: top;\n",
       "    }\n",
       "\n",
       "    .dataframe thead th {\n",
       "        text-align: right;\n",
       "    }\n",
       "</style>\n",
       "<table border=\"1\" class=\"dataframe\">\n",
       "  <thead>\n",
       "    <tr style=\"text-align: right;\">\n",
       "      <th></th>\n",
       "      <th></th>\n",
       "      <th>Gender</th>\n",
       "      <th>EthnicGroup</th>\n",
       "      <th>ParentEduc</th>\n",
       "      <th>LunchType</th>\n",
       "      <th>TestPrep</th>\n",
       "      <th>ParentMaritalStatus</th>\n",
       "      <th>PracticeSport</th>\n",
       "      <th>IsFirstChild</th>\n",
       "      <th>NrSiblings</th>\n",
       "      <th>TransportMeans</th>\n",
       "      <th>WklyStudyHours</th>\n",
       "      <th>MathScore</th>\n",
       "      <th>ReadingScore</th>\n",
       "      <th>WritingScore</th>\n",
       "      <th>OverallScore</th>\n",
       "    </tr>\n",
       "  </thead>\n",
       "  <tbody>\n",
       "    <tr>\n",
       "      <th>0</th>\n",
       "      <td>0</td>\n",
       "      <td>female</td>\n",
       "      <td>group C</td>\n",
       "      <td>bachelor's degree</td>\n",
       "      <td>standard</td>\n",
       "      <td>none</td>\n",
       "      <td>married</td>\n",
       "      <td>regularly</td>\n",
       "      <td>yes</td>\n",
       "      <td>3</td>\n",
       "      <td>school_bus</td>\n",
       "      <td>&lt; 5</td>\n",
       "      <td>71</td>\n",
       "      <td>71</td>\n",
       "      <td>74</td>\n",
       "      <td>72.00</td>\n",
       "    </tr>\n",
       "    <tr>\n",
       "      <th>1</th>\n",
       "      <td>1</td>\n",
       "      <td>female</td>\n",
       "      <td>group C</td>\n",
       "      <td>some college</td>\n",
       "      <td>standard</td>\n",
       "      <td>none</td>\n",
       "      <td>married</td>\n",
       "      <td>sometimes</td>\n",
       "      <td>yes</td>\n",
       "      <td>0</td>\n",
       "      <td>school_bus</td>\n",
       "      <td>10-May</td>\n",
       "      <td>69</td>\n",
       "      <td>90</td>\n",
       "      <td>88</td>\n",
       "      <td>82.33</td>\n",
       "    </tr>\n",
       "    <tr>\n",
       "      <th>2</th>\n",
       "      <td>2</td>\n",
       "      <td>female</td>\n",
       "      <td>group B</td>\n",
       "      <td>master's degree</td>\n",
       "      <td>standard</td>\n",
       "      <td>none</td>\n",
       "      <td>single</td>\n",
       "      <td>sometimes</td>\n",
       "      <td>yes</td>\n",
       "      <td>4</td>\n",
       "      <td>school_bus</td>\n",
       "      <td>&lt; 5</td>\n",
       "      <td>87</td>\n",
       "      <td>93</td>\n",
       "      <td>91</td>\n",
       "      <td>90.33</td>\n",
       "    </tr>\n",
       "    <tr>\n",
       "      <th>3</th>\n",
       "      <td>3</td>\n",
       "      <td>male</td>\n",
       "      <td>group A</td>\n",
       "      <td>associate's degree</td>\n",
       "      <td>free/reduced</td>\n",
       "      <td>none</td>\n",
       "      <td>married</td>\n",
       "      <td>never</td>\n",
       "      <td>no</td>\n",
       "      <td>1</td>\n",
       "      <td>school_bus</td>\n",
       "      <td>10-May</td>\n",
       "      <td>45</td>\n",
       "      <td>56</td>\n",
       "      <td>42</td>\n",
       "      <td>47.67</td>\n",
       "    </tr>\n",
       "    <tr>\n",
       "      <th>4</th>\n",
       "      <td>4</td>\n",
       "      <td>male</td>\n",
       "      <td>group C</td>\n",
       "      <td>some college</td>\n",
       "      <td>standard</td>\n",
       "      <td>none</td>\n",
       "      <td>married</td>\n",
       "      <td>sometimes</td>\n",
       "      <td>yes</td>\n",
       "      <td>0</td>\n",
       "      <td>school_bus</td>\n",
       "      <td>10-May</td>\n",
       "      <td>76</td>\n",
       "      <td>78</td>\n",
       "      <td>75</td>\n",
       "      <td>76.33</td>\n",
       "    </tr>\n",
       "    <tr>\n",
       "      <th>...</th>\n",
       "      <td>...</td>\n",
       "      <td>...</td>\n",
       "      <td>...</td>\n",
       "      <td>...</td>\n",
       "      <td>...</td>\n",
       "      <td>...</td>\n",
       "      <td>...</td>\n",
       "      <td>...</td>\n",
       "      <td>...</td>\n",
       "      <td>...</td>\n",
       "      <td>...</td>\n",
       "      <td>...</td>\n",
       "      <td>...</td>\n",
       "      <td>...</td>\n",
       "      <td>...</td>\n",
       "      <td>...</td>\n",
       "    </tr>\n",
       "    <tr>\n",
       "      <th>30636</th>\n",
       "      <td>816</td>\n",
       "      <td>female</td>\n",
       "      <td>group D</td>\n",
       "      <td>high school</td>\n",
       "      <td>standard</td>\n",
       "      <td>none</td>\n",
       "      <td>single</td>\n",
       "      <td>sometimes</td>\n",
       "      <td>no</td>\n",
       "      <td>2</td>\n",
       "      <td>school_bus</td>\n",
       "      <td>10-May</td>\n",
       "      <td>59</td>\n",
       "      <td>61</td>\n",
       "      <td>65</td>\n",
       "      <td>61.67</td>\n",
       "    </tr>\n",
       "    <tr>\n",
       "      <th>30637</th>\n",
       "      <td>890</td>\n",
       "      <td>male</td>\n",
       "      <td>group E</td>\n",
       "      <td>high school</td>\n",
       "      <td>standard</td>\n",
       "      <td>none</td>\n",
       "      <td>single</td>\n",
       "      <td>regularly</td>\n",
       "      <td>no</td>\n",
       "      <td>1</td>\n",
       "      <td>private</td>\n",
       "      <td>10-May</td>\n",
       "      <td>58</td>\n",
       "      <td>53</td>\n",
       "      <td>51</td>\n",
       "      <td>54.00</td>\n",
       "    </tr>\n",
       "    <tr>\n",
       "      <th>30638</th>\n",
       "      <td>911</td>\n",
       "      <td>female</td>\n",
       "      <td>group C</td>\n",
       "      <td>high school</td>\n",
       "      <td>free/reduced</td>\n",
       "      <td>completed</td>\n",
       "      <td>married</td>\n",
       "      <td>sometimes</td>\n",
       "      <td>no</td>\n",
       "      <td>1</td>\n",
       "      <td>private</td>\n",
       "      <td>10-May</td>\n",
       "      <td>61</td>\n",
       "      <td>70</td>\n",
       "      <td>67</td>\n",
       "      <td>66.00</td>\n",
       "    </tr>\n",
       "    <tr>\n",
       "      <th>30639</th>\n",
       "      <td>934</td>\n",
       "      <td>female</td>\n",
       "      <td>group D</td>\n",
       "      <td>associate's degree</td>\n",
       "      <td>standard</td>\n",
       "      <td>completed</td>\n",
       "      <td>married</td>\n",
       "      <td>regularly</td>\n",
       "      <td>no</td>\n",
       "      <td>3</td>\n",
       "      <td>school_bus</td>\n",
       "      <td>10-May</td>\n",
       "      <td>82</td>\n",
       "      <td>90</td>\n",
       "      <td>93</td>\n",
       "      <td>88.33</td>\n",
       "    </tr>\n",
       "    <tr>\n",
       "      <th>30640</th>\n",
       "      <td>960</td>\n",
       "      <td>male</td>\n",
       "      <td>group B</td>\n",
       "      <td>some college</td>\n",
       "      <td>standard</td>\n",
       "      <td>none</td>\n",
       "      <td>married</td>\n",
       "      <td>never</td>\n",
       "      <td>no</td>\n",
       "      <td>1</td>\n",
       "      <td>school_bus</td>\n",
       "      <td>10-May</td>\n",
       "      <td>64</td>\n",
       "      <td>60</td>\n",
       "      <td>58</td>\n",
       "      <td>60.67</td>\n",
       "    </tr>\n",
       "  </tbody>\n",
       "</table>\n",
       "<p>30641 rows × 16 columns</p>\n",
       "</div>"
      ],
      "text/plain": [
       "            Gender EthnicGroup          ParentEduc     LunchType   TestPrep  \\\n",
       "0        0  female     group C   bachelor's degree      standard       none   \n",
       "1        1  female     group C        some college      standard       none   \n",
       "2        2  female     group B     master's degree      standard       none   \n",
       "3        3    male     group A  associate's degree  free/reduced       none   \n",
       "4        4    male     group C        some college      standard       none   \n",
       "...    ...     ...         ...                 ...           ...        ...   \n",
       "30636  816  female     group D         high school      standard       none   \n",
       "30637  890    male     group E         high school      standard       none   \n",
       "30638  911  female     group C         high school  free/reduced  completed   \n",
       "30639  934  female     group D  associate's degree      standard  completed   \n",
       "30640  960    male     group B        some college      standard       none   \n",
       "\n",
       "      ParentMaritalStatus PracticeSport IsFirstChild  NrSiblings  \\\n",
       "0                 married     regularly          yes           3   \n",
       "1                 married     sometimes          yes           0   \n",
       "2                  single     sometimes          yes           4   \n",
       "3                 married         never           no           1   \n",
       "4                 married     sometimes          yes           0   \n",
       "...                   ...           ...          ...         ...   \n",
       "30636              single     sometimes           no           2   \n",
       "30637              single     regularly           no           1   \n",
       "30638             married     sometimes           no           1   \n",
       "30639             married     regularly           no           3   \n",
       "30640             married         never           no           1   \n",
       "\n",
       "      TransportMeans WklyStudyHours  MathScore  ReadingScore  WritingScore  \\\n",
       "0         school_bus            < 5         71            71            74   \n",
       "1         school_bus         10-May         69            90            88   \n",
       "2         school_bus            < 5         87            93            91   \n",
       "3         school_bus         10-May         45            56            42   \n",
       "4         school_bus         10-May         76            78            75   \n",
       "...              ...            ...        ...           ...           ...   \n",
       "30636     school_bus         10-May         59            61            65   \n",
       "30637        private         10-May         58            53            51   \n",
       "30638        private         10-May         61            70            67   \n",
       "30639     school_bus         10-May         82            90            93   \n",
       "30640     school_bus         10-May         64            60            58   \n",
       "\n",
       "       OverallScore  \n",
       "0             72.00  \n",
       "1             82.33  \n",
       "2             90.33  \n",
       "3             47.67  \n",
       "4             76.33  \n",
       "...             ...  \n",
       "30636         61.67  \n",
       "30637         54.00  \n",
       "30638         66.00  \n",
       "30639         88.33  \n",
       "30640         60.67  \n",
       "\n",
       "[30641 rows x 16 columns]"
      ]
     },
     "execution_count": 31,
     "metadata": {},
     "output_type": "execute_result"
    }
   ],
   "source": [
    "dataset_orig"
   ]
  },
  {
   "cell_type": "code",
   "execution_count": 32,
   "id": "bbe90c31",
   "metadata": {},
   "outputs": [
    {
     "name": "stdout",
     "output_type": "stream",
     "text": [
      "            Gender EthnicGroup          ParentEduc     LunchType TestPrep  \\\n",
      "55      59  female     group C    some high school  free/reduced     none   \n",
      "69      76    male     group E    some high school      standard     none   \n",
      "308    327    male     group A        some college  free/reduced     none   \n",
      "565    596    male     group B         high school  free/reduced     none   \n",
      "1484   566    male     group B    some high school  free/reduced     none   \n",
      "...    ...     ...         ...                 ...           ...      ...   \n",
      "27765  617    male     group B        some college      standard     none   \n",
      "29000  947    male     group A        some college  free/reduced     none   \n",
      "29817  843    male     group D         high school  free/reduced     none   \n",
      "30389  834    male     group B  associate's degree  free/reduced     none   \n",
      "30478  671    male     group D  associate's degree      standard     none   \n",
      "\n",
      "      ParentMaritalStatus PracticeSport IsFirstChild  NrSiblings  \\\n",
      "55                 single     regularly          yes           3   \n",
      "69                married     sometimes           no           5   \n",
      "308               married     regularly          yes           2   \n",
      "565               married     regularly           no           2   \n",
      "1484               single     sometimes          yes           1   \n",
      "...                   ...           ...          ...         ...   \n",
      "27765             married     sometimes          yes           1   \n",
      "29000             married     sometimes           no           1   \n",
      "29817             married     sometimes           no           1   \n",
      "30389            divorced         never           no           1   \n",
      "30478             married     sometimes           no           1   \n",
      "\n",
      "      TransportMeans WklyStudyHours  MathScore  ReadingScore  WritingScore  \\\n",
      "55        school_bus           > 10          0            17            10   \n",
      "69        school_bus         10-May         28            25            21   \n",
      "308       school_bus           > 10         29            23            19   \n",
      "565       school_bus         10-May         30            24            15   \n",
      "1484         private           > 10         30            21            17   \n",
      "...              ...            ...        ...           ...           ...   \n",
      "27765     school_bus            < 5         40            23            20   \n",
      "29000     school_bus            < 5         21            18            21   \n",
      "29817        private         10-May         33            31            22   \n",
      "30389     school_bus         10-May         24            14             4   \n",
      "30478     school_bus            < 5         32            19            20   \n",
      "\n",
      "       OverallScore  \n",
      "55             9.00  \n",
      "69            24.67  \n",
      "308           23.67  \n",
      "565           23.00  \n",
      "1484          22.67  \n",
      "...             ...  \n",
      "27765         27.67  \n",
      "29000         20.00  \n",
      "29817         28.67  \n",
      "30389         14.00  \n",
      "30478         23.67  \n",
      "\n",
      "[61 rows x 16 columns]\n"
     ]
    }
   ],
   "source": [
    "z_scores = np.abs((dataset['WritingScore'] - dataset['WritingScore'].mean()) / dataset['WritingScore'].std())\n",
    "\n",
    "# Identify values that are more than 3 standard deviations from the mean\n",
    "outliers = dataset_orig[z_scores > 3]\n",
    "\n",
    "# Print the outliers\n",
    "print(outliers)"
   ]
  },
  {
   "cell_type": "code",
   "execution_count": 33,
   "id": "2e26194d",
   "metadata": {},
   "outputs": [
    {
     "data": {
      "image/png": "[encoded data removed]",
      "text/plain": [
       "<Figure size 640x480 with 1 Axes>"
      ]
     },
     "metadata": {},
     "output_type": "display_data"
    }
   ],
   "source": [
    "# Create a boxplot of the 'Math score' column\n",
    "plt.boxplot(dataset['MathScore'])\n",
    "\n",
    "# Show the plot\n",
    "plt.show()"
   ]
  },
  {
   "cell_type": "code",
   "execution_count": 34,
   "id": "abbe2e10",
   "metadata": {},
   "outputs": [
    {
     "data": {
      "image/png": "[encoded data removed]",
      "text/plain": [
       "<Figure size 640x480 with 1 Axes>"
      ]
     },
     "metadata": {},
     "output_type": "display_data"
    }
   ],
   "source": [
    "plt.boxplot(dataset['ReadingScore'])\n",
    "\n",
    "# Show the plot\n",
    "plt.show()"
   ]
  },
  {
   "cell_type": "code",
   "execution_count": 35,
   "id": "855db675",
   "metadata": {},
   "outputs": [
    {
     "data": {
      "image/png": "[encoded data removed]",
      "text/plain": [
       "<Figure size 640x480 with 1 Axes>"
      ]
     },
     "metadata": {},
     "output_type": "display_data"
    }
   ],
   "source": [
    "# Create a boxplot of the 'Math score' column\n",
    "plt.boxplot(dataset['WritingScore'])\n",
    "\n",
    "# Show the plot\n",
    "plt.show()"
   ]
  },
  {
   "cell_type": "code",
   "execution_count": 36,
   "id": "c883262e",
   "metadata": {},
   "outputs": [],
   "source": [
    "dataset=dataset_orig"
   ]
  },
  {
   "cell_type": "code",
   "execution_count": 37,
   "id": "89e7a069",
   "metadata": {},
   "outputs": [
    {
     "name": "stdout",
     "output_type": "stream",
     "text": [
      "            Gender EthnicGroup          ParentEduc     LunchType TestPrep  \\\n",
      "55      59  female     group C    some high school  free/reduced     none   \n",
      "69      76    male     group E    some high school      standard     none   \n",
      "308    327    male     group A        some college  free/reduced     none   \n",
      "565    596    male     group B         high school  free/reduced     none   \n",
      "1484   566    male     group B    some high school  free/reduced     none   \n",
      "...    ...     ...         ...                 ...           ...      ...   \n",
      "27765  617    male     group B        some college      standard     none   \n",
      "29000  947    male     group A        some college  free/reduced     none   \n",
      "29817  843    male     group D         high school  free/reduced     none   \n",
      "30389  834    male     group B  associate's degree  free/reduced     none   \n",
      "30478  671    male     group D  associate's degree      standard     none   \n",
      "\n",
      "      ParentMaritalStatus PracticeSport IsFirstChild  NrSiblings  \\\n",
      "55                 single     regularly          yes           3   \n",
      "69                married     sometimes           no           5   \n",
      "308               married     regularly          yes           2   \n",
      "565               married     regularly           no           2   \n",
      "1484               single     sometimes          yes           1   \n",
      "...                   ...           ...          ...         ...   \n",
      "27765             married     sometimes          yes           1   \n",
      "29000             married     sometimes           no           1   \n",
      "29817             married     sometimes           no           1   \n",
      "30389            divorced         never           no           1   \n",
      "30478             married     sometimes           no           1   \n",
      "\n",
      "      TransportMeans WklyStudyHours  MathScore  ReadingScore  WritingScore  \\\n",
      "55        school_bus           > 10          0            17            10   \n",
      "69        school_bus         10-May         28            25            21   \n",
      "308       school_bus           > 10         29            23            19   \n",
      "565       school_bus         10-May         30            24            15   \n",
      "1484         private           > 10         30            21            17   \n",
      "...              ...            ...        ...           ...           ...   \n",
      "27765     school_bus            < 5         40            23            20   \n",
      "29000     school_bus            < 5         21            18            21   \n",
      "29817        private         10-May         33            31            22   \n",
      "30389     school_bus         10-May         24            14             4   \n",
      "30478     school_bus            < 5         32            19            20   \n",
      "\n",
      "       OverallScore  \n",
      "55             9.00  \n",
      "69            24.67  \n",
      "308           23.67  \n",
      "565           23.00  \n",
      "1484          22.67  \n",
      "...             ...  \n",
      "27765         27.67  \n",
      "29000         20.00  \n",
      "29817         28.67  \n",
      "30389         14.00  \n",
      "30478         23.67  \n",
      "\n",
      "[61 rows x 16 columns]\n"
     ]
    }
   ],
   "source": [
    "z_scores = np.abs((dataset['WritingScore'] - dataset['WritingScore'].mean()) / dataset['WritingScore'].std())\n",
    "\n",
    "# Identify values that are more than 3 standard deviations from the mean\n",
    "outliers =dataset [z_scores > 3]\n",
    "\n",
    "# Print the outliers\n",
    "print(outliers)\n"
   ]
  },
  {
   "cell_type": "markdown",
   "id": "76cbbeb0",
   "metadata": {},
   "source": [
    "Assigning the GPA to each Student\n",
    "\n",
    "GPA\tGrad\n",
    "A\t> 80\n",
    "B\t> 70\n",
    "C\t> 60\n",
    "D\t> 50\n",
    "F\t< 50"
   ]
  },
  {
   "cell_type": "code",
   "execution_count": 38,
   "id": "2ad46da8",
   "metadata": {},
   "outputs": [],
   "source": [
    "def GetGrade(OverallScore):\n",
    "    if OverallScore >= 80:\n",
    "        return 'A'\n",
    "    elif OverallScore >= 70:\n",
    "        return 'B'\n",
    "    elif OverallScore >= 60:\n",
    "        return 'C'\n",
    "    elif OverallScore >= 50:\n",
    "        return 'D'\n",
    "    else:\n",
    "        return 'F'\n"
   ]
  },
  {
   "cell_type": "code",
   "execution_count": 39,
   "id": "e5975dba",
   "metadata": {},
   "outputs": [
    {
     "data": {
      "text/html": [
       "<div>\n",
       "<style scoped>\n",
       "    .dataframe tbody tr th:only-of-type {\n",
       "        vertical-align: middle;\n",
       "    }\n",
       "\n",
       "    .dataframe tbody tr th {\n",
       "        vertical-align: top;\n",
       "    }\n",
       "\n",
       "    .dataframe thead th {\n",
       "        text-align: right;\n",
       "    }\n",
       "</style>\n",
       "<table border=\"1\" class=\"dataframe\">\n",
       "  <thead>\n",
       "    <tr style=\"text-align: right;\">\n",
       "      <th></th>\n",
       "      <th></th>\n",
       "      <th>Gender</th>\n",
       "      <th>EthnicGroup</th>\n",
       "      <th>ParentEduc</th>\n",
       "      <th>LunchType</th>\n",
       "      <th>TestPrep</th>\n",
       "      <th>ParentMaritalStatus</th>\n",
       "      <th>PracticeSport</th>\n",
       "      <th>IsFirstChild</th>\n",
       "      <th>NrSiblings</th>\n",
       "      <th>TransportMeans</th>\n",
       "      <th>WklyStudyHours</th>\n",
       "      <th>MathScore</th>\n",
       "      <th>ReadingScore</th>\n",
       "      <th>WritingScore</th>\n",
       "      <th>OverallScore</th>\n",
       "      <th>GPA</th>\n",
       "    </tr>\n",
       "  </thead>\n",
       "  <tbody>\n",
       "    <tr>\n",
       "      <th>0</th>\n",
       "      <td>0</td>\n",
       "      <td>female</td>\n",
       "      <td>group C</td>\n",
       "      <td>bachelor's degree</td>\n",
       "      <td>standard</td>\n",
       "      <td>none</td>\n",
       "      <td>married</td>\n",
       "      <td>regularly</td>\n",
       "      <td>yes</td>\n",
       "      <td>3</td>\n",
       "      <td>school_bus</td>\n",
       "      <td>&lt; 5</td>\n",
       "      <td>71</td>\n",
       "      <td>71</td>\n",
       "      <td>74</td>\n",
       "      <td>72.00</td>\n",
       "      <td>B</td>\n",
       "    </tr>\n",
       "    <tr>\n",
       "      <th>1</th>\n",
       "      <td>1</td>\n",
       "      <td>female</td>\n",
       "      <td>group C</td>\n",
       "      <td>some college</td>\n",
       "      <td>standard</td>\n",
       "      <td>none</td>\n",
       "      <td>married</td>\n",
       "      <td>sometimes</td>\n",
       "      <td>yes</td>\n",
       "      <td>0</td>\n",
       "      <td>school_bus</td>\n",
       "      <td>10-May</td>\n",
       "      <td>69</td>\n",
       "      <td>90</td>\n",
       "      <td>88</td>\n",
       "      <td>82.33</td>\n",
       "      <td>A</td>\n",
       "    </tr>\n",
       "    <tr>\n",
       "      <th>2</th>\n",
       "      <td>2</td>\n",
       "      <td>female</td>\n",
       "      <td>group B</td>\n",
       "      <td>master's degree</td>\n",
       "      <td>standard</td>\n",
       "      <td>none</td>\n",
       "      <td>single</td>\n",
       "      <td>sometimes</td>\n",
       "      <td>yes</td>\n",
       "      <td>4</td>\n",
       "      <td>school_bus</td>\n",
       "      <td>&lt; 5</td>\n",
       "      <td>87</td>\n",
       "      <td>93</td>\n",
       "      <td>91</td>\n",
       "      <td>90.33</td>\n",
       "      <td>A</td>\n",
       "    </tr>\n",
       "    <tr>\n",
       "      <th>3</th>\n",
       "      <td>3</td>\n",
       "      <td>male</td>\n",
       "      <td>group A</td>\n",
       "      <td>associate's degree</td>\n",
       "      <td>free/reduced</td>\n",
       "      <td>none</td>\n",
       "      <td>married</td>\n",
       "      <td>never</td>\n",
       "      <td>no</td>\n",
       "      <td>1</td>\n",
       "      <td>school_bus</td>\n",
       "      <td>10-May</td>\n",
       "      <td>45</td>\n",
       "      <td>56</td>\n",
       "      <td>42</td>\n",
       "      <td>47.67</td>\n",
       "      <td>F</td>\n",
       "    </tr>\n",
       "    <tr>\n",
       "      <th>4</th>\n",
       "      <td>4</td>\n",
       "      <td>male</td>\n",
       "      <td>group C</td>\n",
       "      <td>some college</td>\n",
       "      <td>standard</td>\n",
       "      <td>none</td>\n",
       "      <td>married</td>\n",
       "      <td>sometimes</td>\n",
       "      <td>yes</td>\n",
       "      <td>0</td>\n",
       "      <td>school_bus</td>\n",
       "      <td>10-May</td>\n",
       "      <td>76</td>\n",
       "      <td>78</td>\n",
       "      <td>75</td>\n",
       "      <td>76.33</td>\n",
       "      <td>B</td>\n",
       "    </tr>\n",
       "    <tr>\n",
       "      <th>5</th>\n",
       "      <td>5</td>\n",
       "      <td>female</td>\n",
       "      <td>group B</td>\n",
       "      <td>associate's degree</td>\n",
       "      <td>standard</td>\n",
       "      <td>none</td>\n",
       "      <td>married</td>\n",
       "      <td>regularly</td>\n",
       "      <td>yes</td>\n",
       "      <td>1</td>\n",
       "      <td>school_bus</td>\n",
       "      <td>10-May</td>\n",
       "      <td>73</td>\n",
       "      <td>84</td>\n",
       "      <td>79</td>\n",
       "      <td>78.67</td>\n",
       "      <td>B</td>\n",
       "    </tr>\n",
       "    <tr>\n",
       "      <th>6</th>\n",
       "      <td>6</td>\n",
       "      <td>female</td>\n",
       "      <td>group B</td>\n",
       "      <td>some college</td>\n",
       "      <td>standard</td>\n",
       "      <td>completed</td>\n",
       "      <td>widowed</td>\n",
       "      <td>never</td>\n",
       "      <td>no</td>\n",
       "      <td>1</td>\n",
       "      <td>private</td>\n",
       "      <td>10-May</td>\n",
       "      <td>85</td>\n",
       "      <td>93</td>\n",
       "      <td>89</td>\n",
       "      <td>89.00</td>\n",
       "      <td>A</td>\n",
       "    </tr>\n",
       "    <tr>\n",
       "      <th>7</th>\n",
       "      <td>7</td>\n",
       "      <td>male</td>\n",
       "      <td>group B</td>\n",
       "      <td>some college</td>\n",
       "      <td>free/reduced</td>\n",
       "      <td>none</td>\n",
       "      <td>married</td>\n",
       "      <td>sometimes</td>\n",
       "      <td>yes</td>\n",
       "      <td>1</td>\n",
       "      <td>private</td>\n",
       "      <td>&gt; 10</td>\n",
       "      <td>41</td>\n",
       "      <td>43</td>\n",
       "      <td>39</td>\n",
       "      <td>41.00</td>\n",
       "      <td>F</td>\n",
       "    </tr>\n",
       "    <tr>\n",
       "      <th>8</th>\n",
       "      <td>8</td>\n",
       "      <td>male</td>\n",
       "      <td>group D</td>\n",
       "      <td>high school</td>\n",
       "      <td>free/reduced</td>\n",
       "      <td>completed</td>\n",
       "      <td>single</td>\n",
       "      <td>sometimes</td>\n",
       "      <td>no</td>\n",
       "      <td>3</td>\n",
       "      <td>private</td>\n",
       "      <td>&gt; 10</td>\n",
       "      <td>65</td>\n",
       "      <td>64</td>\n",
       "      <td>68</td>\n",
       "      <td>65.67</td>\n",
       "      <td>C</td>\n",
       "    </tr>\n",
       "    <tr>\n",
       "      <th>9</th>\n",
       "      <td>9</td>\n",
       "      <td>female</td>\n",
       "      <td>group B</td>\n",
       "      <td>high school</td>\n",
       "      <td>free/reduced</td>\n",
       "      <td>none</td>\n",
       "      <td>married</td>\n",
       "      <td>regularly</td>\n",
       "      <td>yes</td>\n",
       "      <td>2</td>\n",
       "      <td>private</td>\n",
       "      <td>&lt; 5</td>\n",
       "      <td>37</td>\n",
       "      <td>59</td>\n",
       "      <td>50</td>\n",
       "      <td>48.67</td>\n",
       "      <td>F</td>\n",
       "    </tr>\n",
       "  </tbody>\n",
       "</table>\n",
       "</div>"
      ],
      "text/plain": [
       "      Gender EthnicGroup          ParentEduc     LunchType   TestPrep  \\\n",
       "0  0  female     group C   bachelor's degree      standard       none   \n",
       "1  1  female     group C        some college      standard       none   \n",
       "2  2  female     group B     master's degree      standard       none   \n",
       "3  3    male     group A  associate's degree  free/reduced       none   \n",
       "4  4    male     group C        some college      standard       none   \n",
       "5  5  female     group B  associate's degree      standard       none   \n",
       "6  6  female     group B        some college      standard  completed   \n",
       "7  7    male     group B        some college  free/reduced       none   \n",
       "8  8    male     group D         high school  free/reduced  completed   \n",
       "9  9  female     group B         high school  free/reduced       none   \n",
       "\n",
       "  ParentMaritalStatus PracticeSport IsFirstChild  NrSiblings TransportMeans  \\\n",
       "0             married     regularly          yes           3     school_bus   \n",
       "1             married     sometimes          yes           0     school_bus   \n",
       "2              single     sometimes          yes           4     school_bus   \n",
       "3             married         never           no           1     school_bus   \n",
       "4             married     sometimes          yes           0     school_bus   \n",
       "5             married     regularly          yes           1     school_bus   \n",
       "6             widowed         never           no           1        private   \n",
       "7             married     sometimes          yes           1        private   \n",
       "8              single     sometimes           no           3        private   \n",
       "9             married     regularly          yes           2        private   \n",
       "\n",
       "  WklyStudyHours  MathScore  ReadingScore  WritingScore  OverallScore GPA  \n",
       "0            < 5         71            71            74         72.00   B  \n",
       "1         10-May         69            90            88         82.33   A  \n",
       "2            < 5         87            93            91         90.33   A  \n",
       "3         10-May         45            56            42         47.67   F  \n",
       "4         10-May         76            78            75         76.33   B  \n",
       "5         10-May         73            84            79         78.67   B  \n",
       "6         10-May         85            93            89         89.00   A  \n",
       "7           > 10         41            43            39         41.00   F  \n",
       "8           > 10         65            64            68         65.67   C  \n",
       "9            < 5         37            59            50         48.67   F  "
      ]
     },
     "execution_count": 39,
     "metadata": {},
     "output_type": "execute_result"
    }
   ],
   "source": [
    "dataset['GPA'] = dataset.apply(lambda dataset : GetGrade(dataset['OverallScore']), axis= 1)\n",
    "dataset.head(10) "
   ]
  },
  {
   "cell_type": "code",
   "execution_count": 40,
   "id": "1ab4c95a",
   "metadata": {},
   "outputs": [
    {
     "data": {
      "text/plain": [
       "False"
      ]
     },
     "execution_count": 40,
     "metadata": {},
     "output_type": "execute_result"
    }
   ],
   "source": [
    "#Are there any NaN value at Gender column\n",
    "dataset['Gender'].isna().any()"
   ]
  },
  {
   "cell_type": "code",
   "execution_count": 41,
   "id": "c91e2641",
   "metadata": {},
   "outputs": [
    {
     "name": "stdout",
     "output_type": "stream",
     "text": [
      "Male count: 15217\n",
      "Female count: 15424\n"
     ]
    }
   ],
   "source": [
    "#Finding the gender distribution\n",
    "gender = np.array([0, 0])\n",
    "\n",
    "for i in dataset['Gender']:\n",
    "    if i == 'male':\n",
    "        gender[0] += 1\n",
    "    if i == 'female':\n",
    "        gender[1] += 1\n",
    "\n",
    "male = gender[0]\n",
    "female = gender[1]\n",
    "        \n",
    "print(f\"Male count: {male}\")\n",
    "print(f\"Female count: {female}\")"
   ]
  },
  {
   "cell_type": "code",
   "execution_count": 42,
   "id": "a2f50870",
   "metadata": {},
   "outputs": [],
   "source": [
    "gender_colors = ['#e6e6fa','#008000']"
   ]
  },
  {
   "cell_type": "code",
   "execution_count": 43,
   "id": "999ccb32",
   "metadata": {},
   "outputs": [
    {
     "data": {
      "image/png": "[encoded data removed]",
      "text/plain": [
       "<Figure size 640x480 with 1 Axes>"
      ]
     },
     "metadata": {},
     "output_type": "display_data"
    }
   ],
   "source": [
    "plt.pie(gender, autopct='%0.3f%%', colors=gender_colors, labels=['Male', 'Female'])\n",
    "plt.title('Gender Distribution')\n",
    "plt.show()"
   ]
  },
  {
   "cell_type": "markdown",
   "id": "3ccd8140",
   "metadata": {},
   "source": [
    "What is the relation between gender and scores?"
   ]
  },
  {
   "cell_type": "code",
   "execution_count": 44,
   "id": "9eafba67",
   "metadata": {},
   "outputs": [
    {
     "data": {
      "image/png": "[encoded data removed]",
      "text/plain": [
       "<Figure size 640x480 with 1 Axes>"
      ]
     },
     "metadata": {},
     "output_type": "display_data"
    }
   ],
   "source": [
    "#Grouping Math scores by gender\n",
    "male_math_scores = dataset[dataset['Gender'] == 'male']['MathScore'].tolist()\n",
    "female_math_scores = dataset[dataset['Gender'] == 'female']['MathScore'].tolist()\n",
    "\n",
    "plt.hist([male_math_scores, female_math_scores], bins=[40, 50, 60, 70, 80, 90], rwidth=0.8, color=gender_colors,label=['male', 'female'])\n",
    "plt.xlabel('Math Scores')\n",
    "plt.ylabel('Number of Students')\n",
    "plt.title('Distribution of Math scores by gender')\n",
    "plt.legend()\n",
    "plt.show()"
   ]
  },
  {
   "cell_type": "code",
   "execution_count": 45,
   "id": "ae27cbe8",
   "metadata": {},
   "outputs": [
    {
     "data": {
      "image/png": "[encoded data removed]",
      "text/plain": [
       "<Figure size 640x480 with 1 Axes>"
      ]
     },
     "metadata": {},
     "output_type": "display_data"
    }
   ],
   "source": [
    "#Grouping Math scores by gender\n",
    "male_reding_scores = dataset[dataset['Gender'] == 'male']['ReadingScore'].tolist()\n",
    "female_reding_scores = dataset[dataset['Gender'] == 'female']['ReadingScore'].tolist()\n",
    "\n",
    "plt.hist([male_math_scores, female_math_scores], bins=[40, 50, 60, 70, 80, 90], rwidth=0.8, color=gender_colors,label=['male', 'female'])\n",
    "plt.xlabel('Reading Scores')\n",
    "plt.ylabel('Number of Students')\n",
    "plt.title('Distribution of Math scores by gender')\n",
    "plt.legend()\n",
    "plt.show()"
   ]
  },
  {
   "cell_type": "code",
   "execution_count": 46,
   "id": "20950cc1",
   "metadata": {},
   "outputs": [
    {
     "data": {
      "image/png": "[encoded data removed]",
      "text/plain": [
       "<Figure size 640x480 with 1 Axes>"
      ]
     },
     "metadata": {},
     "output_type": "display_data"
    }
   ],
   "source": [
    "#Grouping Math scores by gender\n",
    "male_reding_scores = dataset[dataset['Gender'] == 'male']['WritingScore'].tolist()\n",
    "female_reding_scores = dataset[dataset['Gender'] == 'female']['WritingScore'].tolist()\n",
    "\n",
    "plt.hist([male_math_scores, female_math_scores], bins=[40, 50, 60, 70, 80, 90], rwidth=0.8, color=gender_colors,label=['male', 'female'])\n",
    "plt.xlabel('WritingScore')\n",
    "plt.ylabel('Number of Students')\n",
    "plt.title('Distribution of Math scores by gender')\n",
    "plt.legend()\n",
    "plt.show()"
   ]
  },
  {
   "cell_type": "markdown",
   "id": "d2877d9d",
   "metadata": {},
   "source": [
    "What is the group that contains the most number of students? group c"
   ]
  },
  {
   "cell_type": "code",
   "execution_count": 47,
   "id": "bd54f259",
   "metadata": {},
   "outputs": [
    {
     "data": {
      "image/png": "[encoded data removed]",
      "text/plain": [
       "<Figure size 640x480 with 2 Axes>"
      ]
     },
     "metadata": {},
     "output_type": "display_data"
    }
   ],
   "source": [
    "ethnicGroup=np.array([0,0,0,0])\n",
    "\n",
    "for i in dataset[\"EthnicGroup\"] :\n",
    "    if i==\"group A\" :\n",
    "        ethnicGroup[0]+=1\n",
    "    if i==\"group B\" :\n",
    "        ethnicGroup[1]+=1\n",
    "    if i==\"group C\" :\n",
    "        ethnicGroup[2]+=1\n",
    "    if i==\"group D\" :\n",
    "        ethnicGroup[3]+=1\n",
    "        Label=[\"Group A\",\"Group B\",\"Group C\",\"Group D\"]\n",
    "\n",
    "plt.subplot(1,2,1)\n",
    "plt.bar(Label,ethnicGroup,color=(\"#0000ff\",\"#008000\",\"#ff0000\",\"#f00f80\"))\n",
    "plt.subplot(1,2,2)\n",
    "color1=(\"#0000ff\",\"#008000\",\"#ff0000\",\"#f00f80\")\n",
    "exp=[0,0,0.1,0]\n",
    "plt.pie(ethnicGroup,labels=Label,startangle=180,shadow=True,colors=color1,explode=exp)\n",
    "plt.show()"
   ]
  },
  {
   "cell_type": "code",
   "execution_count": 48,
   "id": "7b66a4cf",
   "metadata": {},
   "outputs": [
    {
     "data": {
      "image/png": "[encoded data removed]",
      "text/plain": [
       "<Figure size 640x480 with 1 Axes>"
      ]
     },
     "metadata": {},
     "output_type": "display_data"
    }
   ],
   "source": [
    "course=np.array([0,0])\n",
    "info_course=[\"not completed\",\"completed\"]\n",
    "for i in dataset[\"TestPrep\"] :\n",
    "    if i==\"none\" :\n",
    "        course[0]+=1\n",
    "    if i==\"completed\" :\n",
    "        course[1]+=1\n",
    "plt.subplot(2,1,1)\n",
    "plt.barh(info_course,course,color=(\"#964b00\",\"#ffff00\"))\n",
    "\n",
    "\n",
    "plt.show()"
   ]
  },
  {
   "cell_type": "code",
   "execution_count": 49,
   "id": "50778f7e",
   "metadata": {},
   "outputs": [
    {
     "data": {
      "text/plain": [
       "<BarContainer object of 4 artists>"
      ]
     },
     "execution_count": 49,
     "metadata": {},
     "output_type": "execute_result"
    },
    {
     "data": {
      "image/png": "[encoded data removed]",
      "text/plain": [
       "<Figure size 640x480 with 1 Axes>"
      ]
     },
     "metadata": {},
     "output_type": "display_data"
    }
   ],
   "source": [
    "married=np.array([0,0,0,0])\n",
    "label=[\"married\",\"single\",\"widowed\",\"divorced\"]\n",
    "\n",
    "for i in dataset[\"ParentMaritalStatus\"] :\n",
    "    if i==\"married\" :\n",
    "        married[0]+=1\n",
    "    if i==\"single\" :\n",
    "        married[1]+=1\n",
    "    if i==\"widowed\" :\n",
    "        married[2]+=1\n",
    "    if i==\"divorced\" :\n",
    "        married[3]+=1\n",
    "        plt.subplot(2,1,1)\n",
    "\n",
    "plt.bar(label,married,color=(\"#FFF8DC\",\"#FFEBCD\",\"#A52A2A\",\"#D2B48C\"))\n"
   ]
  },
  {
   "cell_type": "code",
   "execution_count": 50,
   "id": "22a3cfeb",
   "metadata": {},
   "outputs": [
    {
     "data": {
      "text/plain": [
       "<BarContainer object of 2 artists>"
      ]
     },
     "execution_count": 50,
     "metadata": {},
     "output_type": "execute_result"
    },
    {
     "data": {
      "image/png": "[encoded data removed]",
      "text/plain": [
       "<Figure size 640x480 with 1 Axes>"
      ]
     },
     "metadata": {},
     "output_type": "display_data"
    }
   ],
   "source": [
    "#travelling status \n",
    "\n",
    "travel=np.array([0,0])\n",
    "label=[\"School Bus\",\"private\"]\n",
    "for i in dataset[\"TransportMeans\"] :\n",
    "    if i==\"school_bus\" :\n",
    "        travel[0]+=1\n",
    "    if i==\"private\" :\n",
    "        travel[1]+=1\n",
    "plt.subplot(2,1,1)\n",
    "plt.barh(label,travel,color=(\"#D2B48C\",\"#FFE4C4\"))\n"
   ]
  },
  {
   "cell_type": "code",
   "execution_count": 51,
   "id": "0a805bfe",
   "metadata": {},
   "outputs": [
    {
     "data": {
      "image/png": "[encoded data removed]",
      "text/plain": [
       "<Figure size 640x480 with 1 Axes>"
      ]
     },
     "metadata": {},
     "output_type": "display_data"
    }
   ],
   "source": [
    "#Correlation between the number of weekly study hours and ovrallscore students\n",
    "plt.scatter(dataset['WklyStudyHours'], dataset['OverallScore'])\n",
    "plt.xlabel('The number of weekly study hours')\n",
    "plt.ylabel('tags score')\n",
    "plt.title('The relationship of the number of weekly study hours and overallScore')\n",
    "plt.show()"
   ]
  },
  {
   "cell_type": "code",
   "execution_count": 52,
   "id": "5cf9c28c",
   "metadata": {},
   "outputs": [
    {
     "name": "stdout",
     "output_type": "stream",
     "text": [
      "<class 'pandas.core.frame.DataFrame'>\n",
      "RangeIndex: 30641 entries, 0 to 30640\n",
      "Data columns (total 17 columns):\n",
      " #   Column               Non-Null Count  Dtype  \n",
      "---  ------               --------------  -----  \n",
      " 0                        30641 non-null  int64  \n",
      " 1   Gender               30641 non-null  object \n",
      " 2   EthnicGroup          30641 non-null  object \n",
      " 3   ParentEduc           30641 non-null  object \n",
      " 4   LunchType            30641 non-null  object \n",
      " 5   TestPrep             30641 non-null  object \n",
      " 6   ParentMaritalStatus  30641 non-null  object \n",
      " 7   PracticeSport        30641 non-null  object \n",
      " 8   IsFirstChild         30641 non-null  object \n",
      " 9   NrSiblings           30641 non-null  int32  \n",
      " 10  TransportMeans       30641 non-null  object \n",
      " 11  WklyStudyHours       30641 non-null  object \n",
      " 12  MathScore            30641 non-null  int64  \n",
      " 13  ReadingScore         30641 non-null  int64  \n",
      " 14  WritingScore         30641 non-null  int64  \n",
      " 15  OverallScore         30641 non-null  float64\n",
      " 16  GPA                  30641 non-null  object \n",
      "dtypes: float64(1), int32(1), int64(4), object(11)\n",
      "memory usage: 3.9+ MB\n"
     ]
    }
   ],
   "source": [
    "dataset.info()"
   ]
  },
  {
   "cell_type": "markdown",
   "id": "f81fbaf6",
   "metadata": {},
   "source": [
    "# Analysis and Visualization"
   ]
  },
  {
   "cell_type": "markdown",
   "id": "e1433ee0",
   "metadata": {},
   "source": [
    "### 1-What is the distribution of students by gender and first group?"
   ]
  },
  {
   "cell_type": "code",
   "execution_count": 53,
   "id": "ea3404e7",
   "metadata": {},
   "outputs": [
    {
     "data": {
      "text/html": [
       "<div>\n",
       "<style scoped>\n",
       "    .dataframe tbody tr th:only-of-type {\n",
       "        vertical-align: middle;\n",
       "    }\n",
       "\n",
       "    .dataframe tbody tr th {\n",
       "        vertical-align: top;\n",
       "    }\n",
       "\n",
       "    .dataframe thead th {\n",
       "        text-align: right;\n",
       "    }\n",
       "</style>\n",
       "<table border=\"1\" class=\"dataframe\">\n",
       "  <thead>\n",
       "    <tr style=\"text-align: right;\">\n",
       "      <th>EthnicGroup</th>\n",
       "      <th>group A</th>\n",
       "      <th>group B</th>\n",
       "      <th>group C</th>\n",
       "      <th>group D</th>\n",
       "      <th>group E</th>\n",
       "    </tr>\n",
       "    <tr>\n",
       "      <th>Gender</th>\n",
       "      <th></th>\n",
       "      <th></th>\n",
       "      <th></th>\n",
       "      <th></th>\n",
       "      <th></th>\n",
       "    </tr>\n",
       "  </thead>\n",
       "  <tbody>\n",
       "    <tr>\n",
       "      <th>female</th>\n",
       "      <td>1123</td>\n",
       "      <td>2959</td>\n",
       "      <td>5538</td>\n",
       "      <td>3768</td>\n",
       "      <td>2036</td>\n",
       "    </tr>\n",
       "    <tr>\n",
       "      <th>male</th>\n",
       "      <td>1096</td>\n",
       "      <td>2867</td>\n",
       "      <td>5514</td>\n",
       "      <td>3735</td>\n",
       "      <td>2005</td>\n",
       "    </tr>\n",
       "  </tbody>\n",
       "</table>\n",
       "</div>"
      ],
      "text/plain": [
       "EthnicGroup  group A  group B  group C  group D  group E\n",
       "Gender                                                  \n",
       "female          1123     2959     5538     3768     2036\n",
       "male            1096     2867     5514     3735     2005"
      ]
     },
     "execution_count": 53,
     "metadata": {},
     "output_type": "execute_result"
    }
   ],
   "source": [
    "gender_ethnicity_distribution = dataset.groupby(['Gender', 'EthnicGroup']).size().unstack()\n",
    "# Extract the distribution of students by gender and ethnic group\n",
    "gender_ethnicity_distribution"
   ]
  },
  {
   "cell_type": "markdown",
   "id": "7a329fc2",
   "metadata": {},
   "source": [
    "### 2-What is the most educational degree that parents hold for students?"
   ]
  },
  {
   "cell_type": "code",
   "execution_count": 54,
   "id": "9b975700",
   "metadata": {},
   "outputs": [
    {
     "data": {
      "text/plain": [
       "'some college'"
      ]
     },
     "execution_count": 54,
     "metadata": {},
     "output_type": "execute_result"
    }
   ],
   "source": [
    "parent_education_distribution = dataset['ParentEduc'].value_counts(normalize=True)\n",
    "#Obtaining the most educational degree held by parents\n",
    "most_common_education = parent_education_distribution.idxmax()\n",
    "most_common_education"
   ]
  },
  {
   "cell_type": "markdown",
   "id": "bc1e1257",
   "metadata": {},
   "source": [
    "### 3-Is there a difference in academic performance between male and female students?"
   ]
  },
  {
   "cell_type": "code",
   "execution_count": 55,
   "id": "53f6d0ac",
   "metadata": {},
   "outputs": [
    {
     "name": "stdout",
     "output_type": "stream",
     "text": [
      "Calculate average math =  Gender\n",
      "female    64.080654\n",
      "male      69.069856\n",
      "Name: MathScore, dtype: float64\n",
      "\n",
      " Calculate average reading =  Gender\n",
      "female    72.853216\n",
      "male      65.854571\n",
      "Name: ReadingScore, dtype: float64\n",
      "\n",
      " Calculate average writing =  Gender\n",
      "female    72.856457\n",
      "male      63.920418\n",
      "Name: WritingScore, dtype: float64\n"
     ]
    },
    {
     "data": {
      "image/png": "[encoded data removed]",
      "text/plain": [
       "<Figure size 1000x500 with 1 Axes>"
      ]
     },
     "metadata": {},
     "output_type": "display_data"
    }
   ],
   "source": [
    "# Calculating the average math scores for male and female students\n",
    "average_math_scores = dataset.groupby('Gender')['MathScore'].mean()\n",
    "\n",
    "# Calculating the average reading scores for male and female students\n",
    "average_reading_scores = dataset.groupby('Gender')['ReadingScore'].mean()\n",
    "\n",
    "# Calculating average writing scores for male and female students\n",
    "average_writing_scores = dataset.groupby('Gender')['WritingScore'].mean()\n",
    "\n",
    "print(\"Calculate average math = \",average_math_scores)\n",
    "print(\"\\n Calculate average reading = \",average_reading_scores)\n",
    "print(\"\\n Calculate average writing = \",average_writing_scores)\n",
    "\n",
    "\n",
    "plt.figure(figsize=(10, 5))\n",
    "average_math_scores.plot(kind='bar', color='blue', alpha=0.7, label='Math')\n",
    "average_reading_scores.plot(kind='bar', color='green', alpha=0.7, label='Reading')\n",
    "average_writing_scores.plot(kind='bar', color='orange', alpha=0.7, label='Writing')\n",
    "plt.xlabel('Gender')\n",
    "plt.ylabel('Average Score')\n",
    "plt.title('Average Scores by Gender')\n",
    "plt.legend()\n",
    "plt.show()\n"
   ]
  },
  {
   "cell_type": "markdown",
   "id": "c2a0913b",
   "metadata": {},
   "source": [
    "### 4-Does exercise affect students' performance in exams?"
   ]
  },
  {
   "cell_type": "code",
   "execution_count": 56,
   "id": "7826b6b4",
   "metadata": {},
   "outputs": [
    {
     "name": "stdout",
     "output_type": "stream",
     "text": [
      "Calculate average math =  PracticeSport\n",
      "never        64.171079\n",
      "regularly    67.839155\n",
      "sometimes    66.289258\n",
      "Name: MathScore, dtype: float64\n",
      "\n",
      " Calculate average reading =  PracticeSport\n",
      "never        68.337662\n",
      "regularly    69.943019\n",
      "sometimes    69.255112\n",
      "Name: ReadingScore, dtype: float64\n",
      "\n",
      " Calculate average writing =  PracticeSport\n",
      "never        66.522727\n",
      "regularly    69.604003\n",
      "sometimes    68.090255\n",
      "Name: WritingScore, dtype: float64\n"
     ]
    },
    {
     "data": {
      "image/png": "[encoded data removed]",
      "text/plain": [
       "<Figure size 1000x500 with 1 Axes>"
      ]
     },
     "metadata": {},
     "output_type": "display_data"
    }
   ],
   "source": [
    "# Calculate the average score of students who exercise and students who do not exercise in mathematics\n",
    "average_math_scores = dataset.groupby('PracticeSport')['MathScore'].mean()\n",
    "# Calculate the average score of students who exercise and students who do not exercise in reading\n",
    "average_reading_scores = dataset.groupby('PracticeSport')['ReadingScore'].mean()\n",
    "# Calculate the average score of students who exercise and students who do not exercise in writing\n",
    "average_writing_scores = dataset.groupby('PracticeSport')['WritingScore'].mean()\n",
    "print(\"Calculate average math = \",average_math_scores)\n",
    "print(\"\\n Calculate average reading = \",average_reading_scores)\n",
    "print(\"\\n Calculate average writing = \",average_writing_scores)\n",
    "plt.figure(figsize=(10, 5))\n",
    "average_math_scores.plot(kind='bar', color='blue', alpha=0.7, label='Math')\n",
    "average_reading_scores.plot(kind='bar', color='green', alpha=0.7, label='Reading')\n",
    "average_writing_scores.plot(kind='bar', color='orange', alpha=0.7, label='Writing')\n",
    "plt.xlabel('Practice Sport')\n",
    "plt.ylabel('Average Score')\n",
    "plt.title('Average Scores by Practice Sport')\n",
    "plt.legend()\n",
    "plt.show()\n"
   ]
  },
  {
   "cell_type": "markdown",
   "id": "a96b8d3f",
   "metadata": {},
   "source": [
    "### 5-Does the type of lunch affect students' performance in exams?"
   ]
  },
  {
   "cell_type": "code",
   "execution_count": 57,
   "id": "02269430",
   "metadata": {},
   "outputs": [
    {
     "name": "stdout",
     "output_type": "stream",
     "text": [
      "Calculate average math =  LunchType\n",
      "free/reduced    58.862332\n",
      "standard        70.709370\n",
      "Name: MathScore, dtype: float64\n",
      "\n",
      " Calculate average reading =  LunchType\n",
      "free/reduced    64.189735\n",
      "standard        72.175634\n",
      "Name: ReadingScore, dtype: float64\n",
      "\n",
      " Calculate average writing =  LunchType\n",
      "free/reduced    62.650522\n",
      "standard        71.529716\n",
      "Name: WritingScore, dtype: float64\n"
     ]
    },
    {
     "data": {
      "image/png": "[encoded data removed]",
      "text/plain": [
       "<Figure size 1000x500 with 1 Axes>"
      ]
     },
     "metadata": {},
     "output_type": "display_data"
    }
   ],
   "source": [
    "# Calculate the average score of students who eat and students who do not eat lunch in mathematics\n",
    "average_math_scores = dataset.groupby('LunchType')['MathScore'].mean()\n",
    "# Calculate the average score of students who eat and students who do not eat lunchin reading\n",
    "average_reading_scores = dataset.groupby('LunchType')['ReadingScore'].mean()\n",
    "# Calculate the average score of students who eat and students who do not eat lunch in writing\n",
    "average_writing_scores = dataset.groupby('LunchType')['WritingScore'].mean()\n",
    "print(\"Calculate average math = \",average_math_scores)\n",
    "print(\"\\n Calculate average reading = \",average_reading_scores)\n",
    "print(\"\\n Calculate average writing = \",average_writing_scores)\n",
    "plt.figure(figsize=(10, 5))\n",
    "average_math_scores.plot(kind='bar', color='blue', alpha=0.7, label='Math')\n",
    "average_reading_scores.plot(kind='bar', color='green', alpha=0.7, label='Reading')\n",
    "average_writing_scores.plot(kind='bar', color='orange', alpha=0.7, label='Writing')\n",
    "plt.xlabel('LunchType')\n",
    "plt.ylabel('Average Score')\n",
    "plt.title('Average Scores by LunchType ')\n",
    "plt.legend()\n",
    "plt.show()\n"
   ]
  },
  {
   "cell_type": "markdown",
   "id": "1a52a9e8",
   "metadata": {},
   "source": [
    "### 6-Is there a difference in academic performance between the older and younger children in the family?"
   ]
  },
  {
   "cell_type": "code",
   "execution_count": 58,
   "id": "b1d82a8f",
   "metadata": {},
   "outputs": [
    {
     "name": "stdout",
     "output_type": "stream",
     "text": [
      "Calculate average math =  IsFirstChild\n",
      "no     66.246832\n",
      "yes    66.724507\n",
      "Name: MathScore, dtype: float64\n",
      "\n",
      " Calculate average reading =  IsFirstChild\n",
      "no     69.132614\n",
      "yes    69.508106\n",
      "Name: ReadingScore, dtype: float64\n",
      "\n",
      " Calculate average writing =  IsFirstChild\n",
      "no     68.210887\n",
      "yes    68.529371\n",
      "Name: WritingScore, dtype: float64\n"
     ]
    },
    {
     "data": {
      "image/png": "[encoded data removed]",
      "text/plain": [
       "<Figure size 1000x500 with 1 Axes>"
      ]
     },
     "metadata": {},
     "output_type": "display_data"
    }
   ],
   "source": [
    "# Calculate the average score of older children younger children in mathematics\n",
    "average_math_scores = dataset.groupby('IsFirstChild')['MathScore'].mean()\n",
    "# Calculating the average score of older children and younger children in reading\n",
    "average_reading_scores = dataset.groupby('IsFirstChild')['ReadingScore'].mean()\n",
    "\n",
    "# Calculating the average score of older children and younger children in writing\n",
    "average_writing_scores = dataset.groupby('IsFirstChild')['WritingScore'].mean()\n",
    "\n",
    "print(\"Calculate average math = \",average_math_scores)\n",
    "print(\"\\n Calculate average reading = \",average_reading_scores)\n",
    "print(\"\\n Calculate average writing = \",average_writing_scores)\n",
    "\n",
    "plt.figure(figsize=(10, 5))\n",
    "average_math_scores.plot(kind='bar', color='blue', alpha=0.7, label='Math')\n",
    "average_reading_scores.plot(kind='bar', color='green', alpha=0.7, label='Reading')\n",
    "average_writing_scores.plot(kind='bar', color='orange', alpha=0.7, label='Writing')\n",
    "plt.xlabel('Is First Child')\n",
    "plt.ylabel('Average Score')\n",
    "plt.title('Average Scores by First Child Status')\n",
    "plt.legend()\n",
    "plt.show()\n"
   ]
  },
  {
   "cell_type": "markdown",
   "id": "192ede56",
   "metadata": {},
   "source": [
    "### 7-Is there a relationship between math scores and reading and writing?"
   ]
  },
  {
   "cell_type": "code",
   "execution_count": 59,
   "id": "c09ea388",
   "metadata": {},
   "outputs": [
    {
     "name": "stdout",
     "output_type": "stream",
     "text": [
      "the correlation coefficient between math and reading scores =  0.8178248822215041\n",
      "the correlation coefficient between math and writing scores =  0.8071182117316607\n",
      "the correlation coefficient between reading and writing scores =  0.9525844244682473\n"
     ]
    }
   ],
   "source": [
    "math_scores = dataset['MathScore']\n",
    "reading_scores = dataset['ReadingScore']\n",
    "writing_scores = dataset['WritingScore']\n",
    "# Calculate the correlation coefficient between math and reading scores\n",
    "math_reading_correlation = math_scores.corr(reading_scores)\n",
    "# Calculate the correlation coefficient between math and writing scores\n",
    "math_writing_correlation = math_scores.corr(writing_scores)\n",
    "# Calculate the correlation coefficient between reading and writing scores\n",
    "reading_writing_correlation = reading_scores.corr(writing_scores)\n",
    "print(\"the correlation coefficient between math and reading scores = \", math_reading_correlation)\n",
    "print(\"the correlation coefficient between math and writing scores = \", math_writing_correlation)\n",
    "print(\"the correlation coefficient between reading and writing scores = \", reading_writing_correlation)\n"
   ]
  },
  {
   "cell_type": "markdown",
   "id": "741672d7",
   "metadata": {},
   "source": [
    "### 8-Is there a change in student performance across class groups?"
   ]
  },
  {
   "cell_type": "code",
   "execution_count": 60,
   "id": "c0ce1d5c",
   "metadata": {},
   "outputs": [
    {
     "name": "stderr",
     "output_type": "stream",
     "text": [
      "C:\\Users\\1\\AppData\\Local\\Temp\\ipykernel_20760\\94630739.py:1: FutureWarning: The default value of numeric_only in DataFrameGroupBy.mean is deprecated. In a future version, numeric_only will default to False. Either specify numeric_only or select only columns which should be valid for the function.\n",
      "  grouped_data = dataset.groupby('EthnicGroup').mean()[['MathScore', 'ReadingScore', 'WritingScore']]\n"
     ]
    },
    {
     "data": {
      "text/html": [
       "<div>\n",
       "<style scoped>\n",
       "    .dataframe tbody tr th:only-of-type {\n",
       "        vertical-align: middle;\n",
       "    }\n",
       "\n",
       "    .dataframe tbody tr th {\n",
       "        vertical-align: top;\n",
       "    }\n",
       "\n",
       "    .dataframe thead th {\n",
       "        text-align: right;\n",
       "    }\n",
       "</style>\n",
       "<table border=\"1\" class=\"dataframe\">\n",
       "  <thead>\n",
       "    <tr style=\"text-align: right;\">\n",
       "      <th></th>\n",
       "      <th>MathScore</th>\n",
       "      <th>ReadingScore</th>\n",
       "      <th>WritingScore</th>\n",
       "    </tr>\n",
       "    <tr>\n",
       "      <th>EthnicGroup</th>\n",
       "      <th></th>\n",
       "      <th></th>\n",
       "      <th></th>\n",
       "    </tr>\n",
       "  </thead>\n",
       "  <tbody>\n",
       "    <tr>\n",
       "      <th>group A</th>\n",
       "      <td>62.991888</td>\n",
       "      <td>66.787742</td>\n",
       "      <td>65.251915</td>\n",
       "    </tr>\n",
       "    <tr>\n",
       "      <th>group B</th>\n",
       "      <td>63.490216</td>\n",
       "      <td>67.320460</td>\n",
       "      <td>65.895125</td>\n",
       "    </tr>\n",
       "    <tr>\n",
       "      <th>group C</th>\n",
       "      <td>64.943811</td>\n",
       "      <td>68.517734</td>\n",
       "      <td>67.149294</td>\n",
       "    </tr>\n",
       "    <tr>\n",
       "      <th>group D</th>\n",
       "      <td>67.666400</td>\n",
       "      <td>70.382247</td>\n",
       "      <td>70.890844</td>\n",
       "    </tr>\n",
       "    <tr>\n",
       "      <th>group E</th>\n",
       "      <td>75.298936</td>\n",
       "      <td>74.251423</td>\n",
       "      <td>72.677060</td>\n",
       "    </tr>\n",
       "  </tbody>\n",
       "</table>\n",
       "</div>"
      ],
      "text/plain": [
       "             MathScore  ReadingScore  WritingScore\n",
       "EthnicGroup                                       \n",
       "group A      62.991888     66.787742     65.251915\n",
       "group B      63.490216     67.320460     65.895125\n",
       "group C      64.943811     68.517734     67.149294\n",
       "group D      67.666400     70.382247     70.890844\n",
       "group E      75.298936     74.251423     72.677060"
      ]
     },
     "execution_count": 60,
     "metadata": {},
     "output_type": "execute_result"
    }
   ],
   "source": [
    "grouped_data = dataset.groupby('EthnicGroup').mean()[['MathScore', 'ReadingScore', 'WritingScore']]\n",
    "grouped_data\n"
   ]
  },
  {
   "cell_type": "markdown",
   "id": "36b93062",
   "metadata": {},
   "source": [
    "### 9-Is there a difference in students' performance according to the means of transportation they use to go to school?"
   ]
  },
  {
   "cell_type": "code",
   "execution_count": 61,
   "id": "41099b6e",
   "metadata": {},
   "outputs": [
    {
     "name": "stderr",
     "output_type": "stream",
     "text": [
      "C:\\Users\\1\\AppData\\Local\\Temp\\ipykernel_20760\\359120764.py:1: FutureWarning: The default value of numeric_only in DataFrameGroupBy.mean is deprecated. In a future version, numeric_only will default to False. Either specify numeric_only or select only columns which should be valid for the function.\n",
      "  Transport_data = dataset.groupby('TransportMeans').mean()[['MathScore', 'ReadingScore', 'WritingScore']]\n"
     ]
    },
    {
     "data": {
      "text/html": [
       "<div>\n",
       "<style scoped>\n",
       "    .dataframe tbody tr th:only-of-type {\n",
       "        vertical-align: middle;\n",
       "    }\n",
       "\n",
       "    .dataframe tbody tr th {\n",
       "        vertical-align: top;\n",
       "    }\n",
       "\n",
       "    .dataframe thead th {\n",
       "        text-align: right;\n",
       "    }\n",
       "</style>\n",
       "<table border=\"1\" class=\"dataframe\">\n",
       "  <thead>\n",
       "    <tr style=\"text-align: right;\">\n",
       "      <th></th>\n",
       "      <th>MathScore</th>\n",
       "      <th>ReadingScore</th>\n",
       "      <th>WritingScore</th>\n",
       "    </tr>\n",
       "    <tr>\n",
       "      <th>TransportMeans</th>\n",
       "      <th></th>\n",
       "      <th></th>\n",
       "      <th></th>\n",
       "    </tr>\n",
       "  </thead>\n",
       "  <tbody>\n",
       "    <tr>\n",
       "      <th>private</th>\n",
       "      <td>66.511354</td>\n",
       "      <td>69.472364</td>\n",
       "      <td>68.509593</td>\n",
       "    </tr>\n",
       "    <tr>\n",
       "      <th>school_bus</th>\n",
       "      <td>66.586130</td>\n",
       "      <td>69.321645</td>\n",
       "      <td>68.365009</td>\n",
       "    </tr>\n",
       "  </tbody>\n",
       "</table>\n",
       "</div>"
      ],
      "text/plain": [
       "                MathScore  ReadingScore  WritingScore\n",
       "TransportMeans                                       \n",
       "private         66.511354     69.472364     68.509593\n",
       "school_bus      66.586130     69.321645     68.365009"
      ]
     },
     "execution_count": 61,
     "metadata": {},
     "output_type": "execute_result"
    }
   ],
   "source": [
    "Transport_data = dataset.groupby('TransportMeans').mean()[['MathScore', 'ReadingScore', 'WritingScore']]\n",
    "Transport_data"
   ]
  },
  {
   "cell_type": "markdown",
   "id": "0ed519f7",
   "metadata": {},
   "source": [
    "### 10-Which gender records the most in mathscore , readingscores and writingscores ?"
   ]
  },
  {
   "cell_type": "code",
   "execution_count": 62,
   "id": "9a790a36",
   "metadata": {},
   "outputs": [
    {
     "name": "stdout",
     "output_type": "stream",
     "text": [
      "The gender with the highest math score is: male\n",
      "The gender with the highest reading score is: female\n",
      "The gender with the highest writing score is: female\n"
     ]
    }
   ],
   "source": [
    "# Filter the data by gender and find the maximum math score\n",
    "max_math_score = dataset[dataset['MathScore'] == dataset['MathScore'].max()]['Gender'].values[0]\n",
    "max_reading_scores =dataset[dataset['ReadingScore'] == dataset['ReadingScore'].max()]['Gender'].values[0]\n",
    "writing_scores=dataset[dataset['WritingScore'] == dataset['WritingScore'].max()]['Gender'].values[0]\n",
    "# Print the gender with the highest math score\n",
    "print(\"The gender with the highest math score is:\", max_math_score)\n",
    "print(\"The gender with the highest reading score is:\", max_reading_scores)\n",
    "print(\"The gender with the highest writing score is:\", writing_scores)"
   ]
  },
  {
   "cell_type": "markdown",
   "id": "2e7e0442",
   "metadata": {},
   "source": [
    "### 11-Is there a relationship between the number of siblings and academic performance?"
   ]
  },
  {
   "cell_type": "code",
   "execution_count": 63,
   "id": "1b7a7d3b",
   "metadata": {},
   "outputs": [
    {
     "name": "stdout",
     "output_type": "stream",
     "text": [
      "Correlation coefficient between number of siblings and math scores: -0.003591290298204522\n",
      "Correlation coefficient between number of siblings and reading scores: -0.001927536896270918\n",
      "Correlation coefficient between number of siblings and writing scores: -0.003824167890127415\n"
     ]
    }
   ],
   "source": [
    "# Extract the number of siblings and academic scores\n",
    "siblings = dataset['NrSiblings']\n",
    "math_scores = dataset['MathScore']\n",
    "reading_scores = dataset['ReadingScore']\n",
    "writing_scores = dataset['WritingScore']\n",
    "# Calculate the correlation coefficient between the number of siblings and math scores\n",
    "siblings_math_correlation = siblings.corr(math_scores)\n",
    "# Calculate the correlation coefficient between the number of siblings and reading scores\n",
    "siblings_reading_correlation = siblings.corr(reading_scores)\n",
    "# Calculate the correlation coefficient between the number of siblings and writing scores\n",
    "siblings_writing_correlation = siblings.corr(writing_scores)\n",
    "print(\"Correlation coefficient between number of siblings and math scores:\", siblings_math_correlation)\n",
    "print(\"Correlation coefficient between number of siblings and reading scores:\", siblings_reading_correlation)\n",
    "print(\"Correlation coefficient between number of siblings and writing scores:\", siblings_writing_correlation)"
   ]
  },
  {
   "cell_type": "markdown",
   "id": "72943684",
   "metadata": {},
   "source": [
    "### 12-Is there a relation between being the first Child and mathScore , readingScore and writingScore?"
   ]
  },
  {
   "cell_type": "code",
   "execution_count": 64,
   "id": "d4016dfe",
   "metadata": {},
   "outputs": [
    {
     "name": "stderr",
     "output_type": "stream",
     "text": [
      "C:\\Users\\1\\AppData\\Local\\Temp\\ipykernel_20760\\1138204917.py:9: FutureWarning: The default value of numeric_only in DataFrameGroupBy.mean is deprecated. In a future version, numeric_only will default to False. Either specify numeric_only or select only columns which should be valid for the function.\n",
      "  grouped_data_child = dataset.groupby('IsFirstChild').mean()[['MathScore', 'ReadingScore', 'WritingScore']]\n"
     ]
    },
    {
     "data": {
      "text/html": [
       "<div>\n",
       "<style scoped>\n",
       "    .dataframe tbody tr th:only-of-type {\n",
       "        vertical-align: middle;\n",
       "    }\n",
       "\n",
       "    .dataframe tbody tr th {\n",
       "        vertical-align: top;\n",
       "    }\n",
       "\n",
       "    .dataframe thead th {\n",
       "        text-align: right;\n",
       "    }\n",
       "</style>\n",
       "<table border=\"1\" class=\"dataframe\">\n",
       "  <thead>\n",
       "    <tr style=\"text-align: right;\">\n",
       "      <th></th>\n",
       "      <th>MathScore</th>\n",
       "      <th>ReadingScore</th>\n",
       "      <th>WritingScore</th>\n",
       "    </tr>\n",
       "    <tr>\n",
       "      <th>IsFirstChild</th>\n",
       "      <th></th>\n",
       "      <th></th>\n",
       "      <th></th>\n",
       "    </tr>\n",
       "  </thead>\n",
       "  <tbody>\n",
       "    <tr>\n",
       "      <th>no</th>\n",
       "      <td>66.246832</td>\n",
       "      <td>69.132614</td>\n",
       "      <td>68.210887</td>\n",
       "    </tr>\n",
       "    <tr>\n",
       "      <th>yes</th>\n",
       "      <td>66.724507</td>\n",
       "      <td>69.508106</td>\n",
       "      <td>68.529371</td>\n",
       "    </tr>\n",
       "  </tbody>\n",
       "</table>\n",
       "</div>"
      ],
      "text/plain": [
       "              MathScore  ReadingScore  WritingScore\n",
       "IsFirstChild                                       \n",
       "no            66.246832     69.132614     68.210887\n",
       "yes           66.724507     69.508106     68.529371"
      ]
     },
     "execution_count": 64,
     "metadata": {},
     "output_type": "execute_result"
    }
   ],
   "source": [
    "# Function to determine if the student is the firstborn or not\n",
    "def is_firstchild(value):\n",
    "    if value == 'yes':\n",
    "        return 'Yes'\n",
    "    else:\n",
    "        return 'No'\n",
    "\n",
    "# Group the data by being the firstborn and calculate the mean scores\n",
    "grouped_data_child = dataset.groupby('IsFirstChild').mean()[['MathScore', 'ReadingScore', 'WritingScore']]\n",
    "grouped_data_child\n"
   ]
  },
  {
   "cell_type": "markdown",
   "id": "482a2231",
   "metadata": {},
   "source": [
    "### 14-Is there a relation between being the only child and scores?"
   ]
  },
  {
   "cell_type": "code",
   "execution_count": 65,
   "id": "c505714c",
   "metadata": {},
   "outputs": [
    {
     "name": "stdout",
     "output_type": "stream",
     "text": [
      "Mean scores for students who are the only child: \n",
      " MathScore       66.819449\n",
      "ReadingScore    69.547812\n",
      "WritingScore    68.746515\n",
      "dtype: float64\n",
      "\n",
      "Mean scores for students who have siblings: \n",
      " MathScore       66.529177\n",
      "ReadingScore    69.358470\n",
      "WritingScore    68.381913\n",
      "dtype: float64\n"
     ]
    }
   ],
   "source": [
    "# Calculate the mean scores for students who are the only child\n",
    "only_child_scores = dataset[dataset['NrSiblings'] == 0][['MathScore', 'ReadingScore', 'WritingScore']].mean()\n",
    "\n",
    "# Calculate the mean scores for students who have siblings\n",
    "sibling_scores = dataset[dataset['NrSiblings'] > 0][['MathScore', 'ReadingScore', 'WritingScore']].mean()\n",
    "\n",
    "print(\"Mean scores for students who are the only child: \\n\",only_child_scores)\n",
    "\n",
    "print(\"\\nMean scores for students who have siblings: \\n\",sibling_scores)\n",
    "\n"
   ]
  },
  {
   "cell_type": "markdown",
   "id": "09e858e5",
   "metadata": {},
   "source": [
    "### 15-What is the overall score  for male and female students separately?"
   ]
  },
  {
   "cell_type": "code",
   "execution_count": 66,
   "id": "76e637bd",
   "metadata": {},
   "outputs": [
    {
     "name": "stdout",
     "output_type": "stream",
     "text": [
      "mean_male_overall_score :  66.28160018400473\n",
      "mean_female_overall_score :  69.93009465767634\n"
     ]
    }
   ],
   "source": [
    "male_overall_score = dataset[dataset['Gender'] == 'male']['OverallScore'].mean()\n",
    "female_overall_score = dataset[dataset['Gender'] == 'female']['OverallScore'].mean()\n",
    "print(\"mean_male_overall_score : \", male_overall_score)\n",
    "print(\"mean_female_overall_score : \", female_overall_score)\n"
   ]
  },
  {
   "cell_type": "markdown",
   "id": "d0beb7c5",
   "metadata": {},
   "source": [
    "### 16-What is the average general total for students who come from unmarried families? "
   ]
  },
  {
   "cell_type": "code",
   "execution_count": 67,
   "id": "7e0f881d",
   "metadata": {},
   "outputs": [
    {
     "name": "stdout",
     "output_type": "stream",
     "text": [
      "mean_single 67.83244187684937\n"
     ]
    }
   ],
   "source": [
    "single_avg_overall_score = dataset[dataset['ParentMaritalStatus'] == 'single']['OverallScore'].mean()\n",
    "print(\"mean_single\", single_avg_overall_score)"
   ]
  },
  {
   "cell_type": "markdown",
   "id": "2e357d3d",
   "metadata": {},
   "source": [
    "### 17-Is there a correlation between marks in mathscore , writingscore , readingscore and Overallscore?"
   ]
  },
  {
   "cell_type": "code",
   "execution_count": 68,
   "id": "24fd474d",
   "metadata": {},
   "outputs": [
    {
     "name": "stdout",
     "output_type": "stream",
     "text": [
      "correlation between marks in mathematics and Overallscore :  0.9200611316874693\n",
      "correlation between marks in reading and Overallscore :  0.9662921579656782\n",
      "correlation between marks in writing and Overallscore :  0.969336935520888\n"
     ]
    }
   ],
   "source": [
    "correlation_math = dataset['MathScore'].corr(dataset['OverallScore'])\n",
    "print(\"correlation between marks in mathematics and Overallscore : \",correlation_math)\n",
    "correlation_writing = dataset['WritingScore'].corr(dataset['OverallScore'])\n",
    "print(\"correlation between marks in reading and Overallscore : \",correlation_writing)\n",
    "correlation_reading = dataset['ReadingScore'].corr(dataset['OverallScore'])\n",
    "print(\"correlation between marks in writing and Overallscore : \",correlation_reading)\n",
    "\n"
   ]
  },
  {
   "cell_type": "markdown",
   "id": "d5b36a22",
   "metadata": {},
   "source": [
    "### 18-Which gender records the most in overallscore?"
   ]
  },
  {
   "cell_type": "code",
   "execution_count": 69,
   "id": "616808f6",
   "metadata": {},
   "outputs": [
    {
     "name": "stdout",
     "output_type": "stream",
     "text": [
      "The gender with the highest overall is: female\n"
     ]
    }
   ],
   "source": [
    "max_OverallScore = dataset[dataset['OverallScore'] == dataset['OverallScore'].max()]['Gender'].values[0]\n",
    "# Print the gender with the highest overall score\n",
    "print(\"The gender with the highest overall is:\", max_OverallScore)"
   ]
  },
  {
   "cell_type": "markdown",
   "id": "0e005348",
   "metadata": {},
   "source": [
    "### 19-What is the ratio of male and female students in the data?"
   ]
  },
  {
   "cell_type": "code",
   "execution_count": 70,
   "id": "4f85b595",
   "metadata": {},
   "outputs": [
    {
     "name": "stdout",
     "output_type": "stream",
     "text": [
      "percentage of male students:% 49.6622172905584\n",
      "percentage of Female students:% 50.337782709441605\n"
     ]
    }
   ],
   "source": [
    "gender_counts = dataset['Gender'].value_counts()\n",
    "male_percentage = (gender_counts['male'] / dataset.shape[0]) * 100\n",
    "female_percentage = (gender_counts['female'] / dataset.shape[0]) * 100\n",
    "print(\"percentage of male students:%\",format(male_percentage))\n",
    "print(\"percentage of Female students:%\",format(female_percentage))"
   ]
  },
  {
   "cell_type": "markdown",
   "id": "5e884d78",
   "metadata": {},
   "source": [
    "### 20-How many students pass in mathscore , writingscore and readingscore?"
   ]
  },
  {
   "cell_type": "code",
   "execution_count": 71,
   "id": "7250c8c9",
   "metadata": {},
   "outputs": [
    {
     "name": "stdout",
     "output_type": "stream",
     "text": [
      "Number of students who pass in Math exams: 26405\n",
      "Number of students who pass in Writing exams: 27093\n",
      "Number of students who pass in Writing exams: 27093\n"
     ]
    }
   ],
   "source": [
    "# Define the passing mathscore\n",
    "passing_math = 50\n",
    "# Check if each student passes in all exams\n",
    "passing_students_math = dataset[\n",
    "    (dataset['MathScore'] >= passing_math)\n",
    "]\n",
    "# Get the count of passing students\n",
    "passing_students_countMath = passing_students_math.shape[0]\n",
    "print(\"Number of students who pass in Math exams:\", passing_students_countMath)\n",
    "\n",
    "# Define the passing writingscore\n",
    "passing_write = 50\n",
    "# Check if each student passes in all exams\n",
    "passing_students_write = dataset[\n",
    "    (dataset['WritingScore'] >= passing_write)\n",
    "]\n",
    "# Get the count of passing students\n",
    "passing_students_countWrite = passing_students_write.shape[0]\n",
    "print(\"Number of students who pass in Writing exams:\", passing_students_countWrite)\n",
    "\n",
    "# Define the passing readingscore\n",
    "passing_Read = 50\n",
    "# Check if each student passes in all exams\n",
    "passing_students_Read = dataset[\n",
    "    (dataset['WritingScore'] >= passing_Read)\n",
    "]\n",
    "# Get the count of passing students\n",
    "passing_students_countRead = passing_students_write.shape[0]\n",
    "print(\"Number of students who pass in Writing exams:\", passing_students_countRead)\n"
   ]
  },
  {
   "cell_type": "markdown",
   "id": "e5a605d4",
   "metadata": {},
   "source": [
    "### 21-How many students pass in all exams?"
   ]
  },
  {
   "cell_type": "code",
   "execution_count": 72,
   "id": "b9ff054c",
   "metadata": {},
   "outputs": [
    {
     "name": "stdout",
     "output_type": "stream",
     "text": [
      "Number of students who pass in all exams: 24947\n"
     ]
    }
   ],
   "source": [
    "# Define the passing threshold\n",
    "passing_threshold = 50\n",
    "# Check if each student passes in all exams\n",
    "passing_students = dataset[\n",
    "    (dataset['MathScore'] >= passing_threshold) &\n",
    "    (dataset['ReadingScore'] >= passing_threshold) &\n",
    "    (dataset['WritingScore'] >= passing_threshold)\n",
    "]\n",
    "# Get the count of passing students\n",
    "passing_students_count = passing_students.shape[0]\n",
    "print(\"Number of students who pass in all exams:\", passing_students_count)\n"
   ]
  },
  {
   "cell_type": "markdown",
   "id": "d638297b",
   "metadata": {},
   "source": [
    "### 22-How many parent_educ_counts are in ParentEduc?"
   ]
  },
  {
   "cell_type": "code",
   "execution_count": 73,
   "id": "9139f768",
   "metadata": {},
   "outputs": [
    {
     "data": {
      "text/plain": [
       "some college          8478\n",
       "high school           5687\n",
       "associate's degree    5550\n",
       "some high school      5517\n",
       "bachelor's degree     3386\n",
       "master's degree       2023\n",
       "Name: ParentEduc, dtype: int64"
      ]
     },
     "execution_count": 73,
     "metadata": {},
     "output_type": "execute_result"
    }
   ],
   "source": [
    "gender_parent_educ_counts = dataset['ParentEduc'].value_counts()\n",
    "gender_parent_educ_counts"
   ]
  },
  {
   "cell_type": "markdown",
   "id": "6b81c0b7",
   "metadata": {},
   "source": [
    "### 23-Max and Min in ParentEduc?"
   ]
  },
  {
   "cell_type": "code",
   "execution_count": 74,
   "id": "86f3fa67",
   "metadata": {},
   "outputs": [
    {
     "name": "stdout",
     "output_type": "stream",
     "text": [
      "Maximum value in ParentEduc: some high school\n",
      "Minimum value in ParentEduc: associate's degree\n"
     ]
    }
   ],
   "source": [
    "max_parent_educ = dataset['ParentEduc'].max()\n",
    "min_parent_educ = dataset['ParentEduc'].min()\n",
    "print(\"Maximum value in ParentEduc:\", max_parent_educ)\n",
    "print(\"Minimum value in ParentEduc:\", min_parent_educ)"
   ]
  },
  {
   "cell_type": "code",
   "execution_count": 75,
   "id": "d6cdc4c3",
   "metadata": {},
   "outputs": [
    {
     "name": "stdout",
     "output_type": "stream",
     "text": [
      "<class 'pandas.core.frame.DataFrame'>\n",
      "RangeIndex: 30641 entries, 0 to 30640\n",
      "Data columns (total 17 columns):\n",
      " #   Column               Non-Null Count  Dtype  \n",
      "---  ------               --------------  -----  \n",
      " 0                        30641 non-null  int64  \n",
      " 1   Gender               30641 non-null  object \n",
      " 2   EthnicGroup          30641 non-null  object \n",
      " 3   ParentEduc           30641 non-null  object \n",
      " 4   LunchType            30641 non-null  object \n",
      " 5   TestPrep             30641 non-null  object \n",
      " 6   ParentMaritalStatus  30641 non-null  object \n",
      " 7   PracticeSport        30641 non-null  object \n",
      " 8   IsFirstChild         30641 non-null  object \n",
      " 9   NrSiblings           30641 non-null  int32  \n",
      " 10  TransportMeans       30641 non-null  object \n",
      " 11  WklyStudyHours       30641 non-null  object \n",
      " 12  MathScore            30641 non-null  int64  \n",
      " 13  ReadingScore         30641 non-null  int64  \n",
      " 14  WritingScore         30641 non-null  int64  \n",
      " 15  OverallScore         30641 non-null  float64\n",
      " 16  GPA                  30641 non-null  object \n",
      "dtypes: float64(1), int32(1), int64(4), object(11)\n",
      "memory usage: 3.9+ MB\n"
     ]
    }
   ],
   "source": [
    "dataset.info()"
   ]
  },
  {
   "cell_type": "markdown",
   "id": "f1944e4a",
   "metadata": {},
   "source": [
    "# Machine Learning "
   ]
  },
  {
   "cell_type": "code",
   "execution_count": 76,
   "id": "13e78458",
   "metadata": {},
   "outputs": [],
   "source": [
    "encoder = LabelEncoder()"
   ]
  },
  {
   "cell_type": "code",
   "execution_count": 77,
   "id": "dd546df1",
   "metadata": {},
   "outputs": [],
   "source": [
    "dataset['TransportMeans'] =encoder.fit_transform(dataset['TransportMeans'])"
   ]
  },
  {
   "cell_type": "code",
   "execution_count": 78,
   "id": "cbae914a",
   "metadata": {},
   "outputs": [],
   "source": [
    "dataset['IsFirstChild'] =encoder.fit_transform(dataset['IsFirstChild'])"
   ]
  },
  {
   "cell_type": "code",
   "execution_count": 79,
   "id": "c5abf8bf",
   "metadata": {},
   "outputs": [],
   "source": [
    "dataset['PracticeSport'] =encoder.fit_transform(dataset['PracticeSport'])"
   ]
  },
  {
   "cell_type": "code",
   "execution_count": 80,
   "id": "67ee09f9",
   "metadata": {},
   "outputs": [],
   "source": [
    "dataset['ParentMaritalStatus'] =encoder.fit_transform(dataset['ParentMaritalStatus'])"
   ]
  },
  {
   "cell_type": "code",
   "execution_count": 81,
   "id": "e58031ab",
   "metadata": {},
   "outputs": [],
   "source": [
    "dataset['TestPrep'] =encoder.fit_transform(dataset['TestPrep'])"
   ]
  },
  {
   "cell_type": "code",
   "execution_count": 82,
   "id": "7ebc4b6d",
   "metadata": {},
   "outputs": [],
   "source": [
    "dataset['LunchType'] =encoder.fit_transform(dataset['LunchType'])"
   ]
  },
  {
   "cell_type": "code",
   "execution_count": 83,
   "id": "fc6aff77",
   "metadata": {},
   "outputs": [],
   "source": [
    "dataset['ParentEduc'] =encoder.fit_transform(dataset['ParentEduc'])"
   ]
  },
  {
   "cell_type": "code",
   "execution_count": 84,
   "id": "80dd63a3",
   "metadata": {},
   "outputs": [],
   "source": [
    "dataset['EthnicGroup'] =encoder.fit_transform(dataset['EthnicGroup'])"
   ]
  },
  {
   "cell_type": "code",
   "execution_count": 85,
   "id": "24f9e899",
   "metadata": {},
   "outputs": [],
   "source": [
    "dataset['Gender'] =encoder.fit_transform(dataset['Gender'])"
   ]
  },
  {
   "cell_type": "code",
   "execution_count": 86,
   "id": "d013a22e",
   "metadata": {},
   "outputs": [],
   "source": [
    "dataset['LunchType'] =encoder.fit_transform(dataset['LunchType'])"
   ]
  },
  {
   "cell_type": "code",
   "execution_count": 87,
   "id": "ae56c43c",
   "metadata": {},
   "outputs": [],
   "source": [
    "x=dataset.drop(['OverallScore','GPA','WklyStudyHours'],axis=1)\n",
    "y=dataset['OverallScore']"
   ]
  },
  {
   "cell_type": "code",
   "execution_count": 88,
   "id": "c5fdadc5",
   "metadata": {},
   "outputs": [],
   "source": [
    "from sklearn.model_selection import train_test_split\n",
    "\n",
    "x_train,x_test,y_train,y_test = train_test_split(x,y,test_size=0.2,random_state=1)"
   ]
  },
  {
   "cell_type": "code",
   "execution_count": 89,
   "id": "40a29154",
   "metadata": {},
   "outputs": [],
   "source": [
    "from sklearn.preprocessing import MinMaxScaler\n",
    "\n",
    "scaler = MinMaxScaler()\n",
    "x_train = scaler.fit_transform(x_train)\n",
    "x_test = scaler.transform(x_test)"
   ]
  },
  {
   "cell_type": "code",
   "execution_count": 110,
   "id": "a77a95f7",
   "metadata": {},
   "outputs": [
    {
     "data": {
      "text/plain": [
       "0.9999999639354423"
      ]
     },
     "execution_count": 110,
     "metadata": {},
     "output_type": "execute_result"
    }
   ],
   "source": [
    "from sklearn.linear_model import LinearRegression\n",
    "from sklearn.metrics import mean_absolute_error,mean_squared_error,r2_score\n",
    "\n",
    "lr_model = LinearRegression()\n",
    "lr_model.fit(x_train,y_train)\n",
    "y_pred = lr_model.predict(x_test)\n",
    "\n",
    "lr_score= r2_score(y_test,y_pred) # calculate accuracy of the model\n",
    "lr_score"
   ]
  },
  {
   "cell_type": "code",
   "execution_count": 90,
   "id": "fa546288",
   "metadata": {},
   "outputs": [
    {
     "name": "stdout",
     "output_type": "stream",
     "text": [
      "<class 'pandas.core.frame.DataFrame'>\n",
      "RangeIndex: 30641 entries, 0 to 30640\n",
      "Data columns (total 17 columns):\n",
      " #   Column               Non-Null Count  Dtype  \n",
      "---  ------               --------------  -----  \n",
      " 0                        30641 non-null  int64  \n",
      " 1   Gender               30641 non-null  int32  \n",
      " 2   EthnicGroup          30641 non-null  int32  \n",
      " 3   ParentEduc           30641 non-null  int32  \n",
      " 4   LunchType            30641 non-null  int64  \n",
      " 5   TestPrep             30641 non-null  int32  \n",
      " 6   ParentMaritalStatus  30641 non-null  int32  \n",
      " 7   PracticeSport        30641 non-null  int32  \n",
      " 8   IsFirstChild         30641 non-null  int32  \n",
      " 9   NrSiblings           30641 non-null  int32  \n",
      " 10  TransportMeans       30641 non-null  int32  \n",
      " 11  WklyStudyHours       30641 non-null  object \n",
      " 12  MathScore            30641 non-null  int64  \n",
      " 13  ReadingScore         30641 non-null  int64  \n",
      " 14  WritingScore         30641 non-null  int64  \n",
      " 15  OverallScore         30641 non-null  float64\n",
      " 16  GPA                  30641 non-null  object \n",
      "dtypes: float64(1), int32(9), int64(5), object(2)\n",
      "memory usage: 2.9+ MB\n"
     ]
    }
   ],
   "source": [
    "dataset.info()"
   ]
  },
  {
   "cell_type": "code",
   "execution_count": 103,
   "id": "825236e0",
   "metadata": {},
   "outputs": [],
   "source": [
    "dataset['WklyStudyHours'] =encoder.fit_transform(dataset['WklyStudyHours'])"
   ]
  },
  {
   "cell_type": "code",
   "execution_count": 104,
   "id": "ea6ca489",
   "metadata": {},
   "outputs": [],
   "source": [
    "y_pred1 = lr.predict(X_test)"
   ]
  },
  {
   "cell_type": "code",
   "execution_count": 105,
   "id": "67f18b11",
   "metadata": {},
   "outputs": [
    {
     "name": "stdout",
     "output_type": "stream",
     "text": [
      "0.9999999650683099\n"
     ]
    }
   ],
   "source": [
    "print( metrics.r2_score(y_test,y_pred1))\n"
   ]
  },
  {
   "cell_type": "code",
   "execution_count": 98,
   "id": "4fae863a",
   "metadata": {},
   "outputs": [],
   "source": []
  },
  {
   "cell_type": "code",
   "execution_count": null,
   "id": "203192f0",
   "metadata": {},
   "outputs": [],
   "source": []
  }
 ],
 "metadata": {
  "kernelspec": {
   "display_name": "Python 3 (ipykernel)",
   "language": "python",
   "name": "python3"
  },
  "language_info": {
   "codemirror_mode": {
    "name": "ipython",
    "version": 3
   },
   "file_extension": ".py",
   "mimetype": "text/x-python",
   "name": "python",
   "nbconvert_exporter": "python",
   "pygments_lexer": "ipython3",
   "version": "3.9.13"
  }
 },
 "nbformat": 4,
 "nbformat_minor": 5
}
